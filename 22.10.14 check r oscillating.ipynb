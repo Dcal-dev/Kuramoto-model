{
 "cells": [
  {
   "cell_type": "markdown",
   "metadata": {},
   "source": [
    "1. m에 따른 Kc 가 다 다르며, 초기의 $\\theta$에 의존한다는 것 확인\n",
    "2. Hysterisis 적인 성질이 아니라, 초기 $\\theta$와 K에 의한 성질이 아니엇을까?"
   ]
  },
  {
   "cell_type": "code",
   "execution_count": null,
   "metadata": {},
   "outputs": [],
   "source": []
  }
 ],
 "metadata": {
  "language_info": {
   "name": "python"
  },
  "orig_nbformat": 4
 },
 "nbformat": 4,
 "nbformat_minor": 2
}
