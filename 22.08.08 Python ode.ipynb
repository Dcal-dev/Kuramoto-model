{
 "cells": [
  {
   "cell_type": "markdown",
   "metadata": {},
   "source": [
    "# `First Order Phase Transition Resulting from Finite Inertia in Coupled Oscillator System`\n",
    "| Hisa-Aki Tanaka, Allan J. Lichtenberg, and Shin'ichi Oishi   \n",
    "| Phys. Rev. Lett. 78, 2104 – Published 17 March 1997"
   ]
  },
  {
   "cell_type": "code",
   "execution_count": null,
   "metadata": {},
   "outputs": [],
   "source": [
    "import numpy as np\n",
    "import matplotlib.pyplot as plt\n",
    "from scipy.integrate import solve_ivp\n",
    "import scipy.stats as scs\n",
    "from TO_sim.gen_Distribution import Lorentzian,Normal"
   ]
  },
  {
   "cell_type": "code",
   "execution_count": null,
   "metadata": {},
   "outputs": [],
   "source": [
    "def Lorentzian_temp(N,mean = 0, sigma =1):\n",
    "    '''return theta, omega, Kc'''\n",
    "    \n",
    "    init_theta = np.random.uniform(-np.pi,np.pi,size=N)\n",
    "    init_omega = scs.cauchy.rvs(mean,sigma,N)\n",
    "    Kc = 2/(np.pi*scs.cauchy.pdf(mean,mean,sigma))\n",
    "    return init_theta,init_omega,Kc\n",
    "\n",
    "def Normal_temp(N,mean = 0, sigma =1):\n",
    "    '''return theta, omega, Kc'''\n",
    "    init_theta = np.random.uniform(-np.pi,np.pi,size=N)\n",
    "    init_omega = scs.norm.rvs(mean,sigma,N)\n",
    "    Kc = 2/(np.pi*scs.norm.pdf(mean,mean,sigma))\n",
    "    return init_theta,init_omega,Kc"
   ]
  },
  {
   "cell_type": "code",
   "execution_count": null,
   "metadata": {},
   "outputs": [],
   "source": [
    "N = 1000\n",
    "theta, omega, Kc = Normal(N,0,1)\n",
    "Aij = np.ones((N,N)) - np.eye(N)"
   ]
  },
  {
   "cell_type": "markdown",
   "metadata": {},
   "source": [
    "# distribuiton shape | theta & omega\n",
    "omega = Chauchy distribution"
   ]
  },
  {
   "cell_type": "code",
   "execution_count": null,
   "metadata": {},
   "outputs": [],
   "source": [
    "plt.subplot(121)\n",
    "plt.hist(theta,bins = 100)\n",
    "plt.subplot(122)\n",
    "# omega_samp = omega[np.where(np.abs(omega)<2*np.pi)]\n",
    "plt.hist(omega,bins = 100);"
   ]
  },
  {
   "cell_type": "markdown",
   "metadata": {},
   "source": [
    "# 참고자료\n",
    "[1. Damped harmonic oscillator](https://scipy-lectures.org/intro/scipy/auto_examples/plot_odeint_damped_spring_mass.html)  \n",
    "[2. Damped harmonic oscillator with sinusoidal excitation force](https://scientific-python.readthedocs.io/en/latest/notebooks_rst/3_Ordinary_Differential_Equations/02_Examples/Harmonic_Oscillator.html)"
   ]
  },
  {
   "cell_type": "markdown",
   "metadata": {},
   "source": [
    "# TEST numpy vector broadcasting"
   ]
  },
  {
   "cell_type": "markdown",
   "metadata": {},
   "source": [
    "## benchmark Meshgrid vs broadcasting 1\n",
    ">> using broadcasting is much faster than Meshgrid\n",
    "\n",
    ">> `ai, aj = np.meshgrid(a,a,sparse = True)`  \n",
    ">> `ai.shape = (1,5)`  \n",
    ">> `aj.shape = (5,1)`  "
   ]
  },
  {
   "cell_type": "code",
   "execution_count": null,
   "metadata": {},
   "outputs": [],
   "source": [
    "def Meshgrid(N):\n",
    "    np.random.seed(0)\n",
    "    a = np.random.rand(N)\n",
    "    ai,aj = np.meshgrid(a,a,sparse=True)\n",
    "    return Aij_temp*np.sin(aj-ai)"
   ]
  },
  {
   "cell_type": "code",
   "execution_count": null,
   "metadata": {},
   "outputs": [],
   "source": [
    "def Broad(N):\n",
    "    np.random.seed(0)\n",
    "    a = np.random.rand(1,N)\n",
    "    return Aij_temp*np.sin(a.T-a)"
   ]
  },
  {
   "cell_type": "code",
   "execution_count": null,
   "metadata": {},
   "outputs": [],
   "source": [
    "N_temp = 10000\n",
    "Aij_temp = np.ones((N_temp,N_temp)) - np.eye(N_temp)\n",
    "Meshgrid(N_temp) == Broad(N_temp)"
   ]
  },
  {
   "cell_type": "code",
   "execution_count": null,
   "metadata": {},
   "outputs": [],
   "source": [
    "%timeit Broad(N_temp)\n",
    "%timeit Meshgrid(N_temp)\n"
   ]
  },
  {
   "cell_type": "code",
   "execution_count": null,
   "metadata": {},
   "outputs": [],
   "source": [
    "temp = np.array([1,2,3,4,5])\n",
    "ai,aj = np.meshgrid(temp,temp,sparse=True)"
   ]
  },
  {
   "cell_type": "code",
   "execution_count": null,
   "metadata": {},
   "outputs": [],
   "source": [
    "aj.shape"
   ]
  },
  {
   "cell_type": "markdown",
   "metadata": {},
   "source": [
    "## benchmark Meshgrid vs broadcasting 2\n",
    ">> using already made theta\n",
    ">> meshgrid sparse = True 로 해주는 편이 계산에서 빠름"
   ]
  },
  {
   "cell_type": "code",
   "execution_count": null,
   "metadata": {},
   "outputs": [],
   "source": [
    "get_aij_mij = lambda N: (np.ones((N,N)) - np.eye(N),N-1)\n",
    "get_ai = lambda theta:theta.reshape(1,N)\n",
    "N = 10\n",
    "\n",
    "theta, omega, Kc = Lorentzian(N)\n",
    "Aij,mij = get_aij_mij(N)\n",
    "theta_i = get_ai(theta)"
   ]
  },
  {
   "cell_type": "code",
   "execution_count": null,
   "metadata": {},
   "outputs": [],
   "source": [
    "def Meshgrid(theta):\n",
    "    ai,aj = np.meshgrid(theta,theta)\n",
    "    return Aij* np.sin(aj-ai)\n",
    "\n",
    "def Broad(theta):\n",
    "    ai = theta.reshape(1,N)\n",
    "    return Aij* np.sin(ai.T-ai)"
   ]
  },
  {
   "cell_type": "code",
   "execution_count": null,
   "metadata": {},
   "outputs": [],
   "source": [
    "(1/3)*np.sin(theta.reshape(1,N)-theta.reshape(N,1))"
   ]
  },
  {
   "cell_type": "code",
   "execution_count": null,
   "metadata": {},
   "outputs": [],
   "source": [
    "%timeit Broad(theta)\n",
    "%timeit Meshgrid(theta)"
   ]
  },
  {
   "cell_type": "markdown",
   "metadata": {},
   "source": [
    "## Simulation 2nd Kuramoto"
   ]
  },
  {
   "cell_type": "code",
   "execution_count": null,
   "metadata": {},
   "outputs": [],
   "source": [
    "import numpy as np\n",
    "import matplotlib.pyplot as plt\n",
    "from scipy.integrate import solve_ivp\n",
    "import scipy.stats as scs\n",
    "from TO_sim.gen_Distribution import Lorentzian,Normal"
   ]
  },
  {
   "cell_type": "code",
   "execution_count": null,
   "metadata": {},
   "outputs": [],
   "source": [
    "get_aij_mij = lambda N: (np.ones((N,N)) - np.eye(N),N-1)\n",
    "N = 100\n",
    "K,m = 3,0\n",
    "end, dt = 50,0.01\n",
    "theta, omega, Kc = Normal(N)\n",
    "\n",
    "Aij,mi = get_aij_mij(N)\n",
    "t_init = np.arange(0,end+dt,dt)\n",
    "Kc"
   ]
  },
  {
   "cell_type": "code",
   "execution_count": null,
   "metadata": {},
   "outputs": [],
   "source": [
    "def Kuramoto_2nd(Theta,t):\n",
    "    match m:\n",
    "        case 0:\n",
    "            # print(\"Case m = 0\")\n",
    "            theta = Theta[:N]\n",
    "            ai,aj = np.meshgrid(theta,theta,sparse=True)\n",
    "            interaction = (K/mi) * np.sin(aj-ai)\n",
    "            dtheta = omega + interaction.sum(axis=0)\n",
    "            return np.array([*dtheta,*np.zeros(N)])\n",
    "        case _:\n",
    "            # print(f\"Case m = {m}\") \n",
    "            theta,dtheta = Theta[:N],Theta[N:]\n",
    "            ai,aj = np.meshgrid(theta,theta,sparse=True)\n",
    "            interaction = (K/mi) * np.sin(aj-ai)\n",
    "            ddtheta = (1/m)*(-dtheta + omega + interaction.sum(axis=0))\n",
    "            return np.array([*dtheta,*ddtheta])"
   ]
  },
  {
   "cell_type": "code",
   "execution_count": null,
   "metadata": {},
   "outputs": [],
   "source": [
    "def RK4(f, y0, t, args=()):\n",
    "\n",
    "    n = len(t)\n",
    "    y = np.zeros((n, len(y0)))\n",
    "    y[0] = y0\n",
    "    \n",
    "    for i in range(n - 1):\n",
    "        h = t[i+1] - t[i]\n",
    "        k1 = f(y[i], t[i], *args)\n",
    "        k2 = f(y[i] + k1 * h / 2., t[i] + h / 2., *args)\n",
    "        k3 = f(y[i] + k2 * h / 2., t[i] + h / 2., *args)\n",
    "        k4 = f(y[i] + k3 * h, t[i] + h, *args)\n",
    "        y[i+1] = y[i] + (h / 6.) * (k1 + 2*k2 + 2*k3 + k4)\n",
    "    return y"
   ]
  },
  {
   "cell_type": "code",
   "execution_count": null,
   "metadata": {},
   "outputs": [],
   "source": [
    "theta = np.ones(N)"
   ]
  },
  {
   "cell_type": "code",
   "execution_count": null,
   "metadata": {},
   "outputs": [],
   "source": [
    "m=0\n",
    "temp = RK4(Kuramoto_2nd,np.array([*theta,*np.zeros(N)]),t_init)\n",
    "theta_s=temp[:,:N]\n",
    "dtheta_s = temp[:,N:]\n",
    "r_s = np.abs(np.sum(np.exp(1j*theta_s.T),axis=0))/N\n"
   ]
  },
  {
   "cell_type": "code",
   "execution_count": null,
   "metadata": {},
   "outputs": [],
   "source": [
    "m=0\n",
    "thetar = np.ones(N)\n",
    "temp_sr = RK4(Kuramoto_2nd,np.array([*thetar,*np.zeros(N)]),t_init)\n",
    "theta_sr=temp_sr[:,:N]\n",
    "dtheta_sr = temp_sr[:,N:]\n",
    "r_sr = np.abs(np.sum(np.exp(1j*theta_sr.T),axis=0))/N\n"
   ]
  },
  {
   "cell_type": "code",
   "execution_count": null,
   "metadata": {},
   "outputs": [],
   "source": [
    "m = 4\n",
    "temp2 = RK4(Kuramoto_2nd,np.array([*theta,*np.zeros(N)]),t_init)\n",
    "theta_sm=temp2[:,:N]\n",
    "dtheta_sm = temp2[:,N:]\n",
    "r_sm = np.abs(np.sum(np.exp(1j*theta_sm.T),axis=0))/N"
   ]
  },
  {
   "cell_type": "code",
   "execution_count": null,
   "metadata": {},
   "outputs": [],
   "source": [
    "m = 4\n",
    "temp2r = RK4(Kuramoto_2nd,np.array([*thetar,*np.zeros(N)]),t_init)\n",
    "theta_smr=temp2r[:,:N]\n",
    "dtheta_smr = temp2r[:,N:]\n",
    "r_smr = np.abs(np.sum(np.exp(1j*theta_smr.T),axis=0))/N"
   ]
  },
  {
   "cell_type": "code",
   "execution_count": null,
   "metadata": {},
   "outputs": [],
   "source": [
    "theta_init = theta"
   ]
  },
  {
   "cell_type": "code",
   "execution_count": null,
   "metadata": {},
   "outputs": [],
   "source": [
    "plt.subplot(211)\n",
    "plt.plot(t_init,np.sin(theta_s));\n",
    "plt.ylabel(r\"$\\sin(\\theta)$\",fontsize=15)\n",
    "plt.title(\"m=0 $1^{st}$ order Kuramoto\")\n",
    "\n",
    "# plt.text(0,0.8,\"m=0 1st Kuramoto\")\n",
    "plt.subplot(212)\n",
    "plt.plot(t_init,np.sin(theta_sm));\n",
    "plt.ylabel(r\"$\\sin(\\theta)$\",fontsize=15)\n",
    "plt.title(r\"m=2 $2^{nd}$ order Kuramoto\")\n",
    "plt.suptitle(f\"N = {N}, initial r = {r_s[0]:.02f}, K = {K}, g($\\omega$) = N(0,1)\", y=0.98,fontsize=15)\n",
    "plt.tight_layout()\n",
    "\n",
    "# plt.text(0,0.8,f\"m=2 2nd Kuramoto\")\n",
    "\n",
    "plt.savefig(f\"N=100/N = {N} time vs sin theta,r = {r_s[0]:.02f}.png\",dpi=400)"
   ]
  },
  {
   "cell_type": "code",
   "execution_count": null,
   "metadata": {},
   "outputs": [],
   "source": [
    "plt.subplot(211)\n",
    "plt.plot(t_init,np.sin(theta_sr));\n",
    "plt.ylabel(r\"$\\sin(\\theta)$\",fontsize=15)\n",
    "plt.title(\"m=0 $1^{st}$ order Kuramoto\")\n",
    "\n",
    "# plt.text(0,0.8,\"m=0 1st Kuramoto\")\n",
    "plt.subplot(212)\n",
    "plt.plot(t_init,np.sin(theta_smr));\n",
    "plt.ylabel(r\"$\\sin(\\theta)$\",fontsize=15)\n",
    "plt.title(r\"m=2 $2^{nd}$ order Kuramoto\")\n",
    "plt.suptitle(f\"N = {N}, initial r = {r_sr[0]:.02f}, K = {K}, g($\\omega$) = N(0,1)\", y=0.98,fontsize=15)\n",
    "plt.tight_layout()\n",
    "# plt.text(0,0.8,f\"m=2 2nd Kuramoto\")\n",
    "\n",
    "plt.savefig(f\"N=100/N = {N} time vs sin theta, r = {r_sr[0]:.02f}.png\",dpi=400)"
   ]
  },
  {
   "cell_type": "code",
   "execution_count": null,
   "metadata": {},
   "outputs": [],
   "source": [
    "temp_idx = np.argsort(omega)\n",
    "theta_sm[:,temp_idx].shape"
   ]
  },
  {
   "cell_type": "code",
   "execution_count": null,
   "metadata": {},
   "outputs": [],
   "source": [
    "omega[temp_idx][np.where(abs(omega[temp_idx])>K*r_sm[-1])]"
   ]
  },
  {
   "cell_type": "code",
   "execution_count": null,
   "metadata": {},
   "outputs": [],
   "source": [
    "temp_theta = theta_sm[:,temp_idx][-1].reshape(1,N)"
   ]
  },
  {
   "cell_type": "code",
   "execution_count": null,
   "metadata": {},
   "outputs": [],
   "source": [
    "plt.plot(abs(omega[temp_idx]))\n",
    "plt.hlines(K*r_sm[-1],0,N)\n",
    "plt.figure()\n",
    "plt.imshow(abs(np.sin(temp_theta.T-temp_theta)))\n",
    "plt.colorbar()"
   ]
  },
  {
   "cell_type": "code",
   "execution_count": null,
   "metadata": {},
   "outputs": [],
   "source": [
    "plt.subplot(211)\n",
    "plt.plot(t_init,r_s,label = \"$r_{init}$ = %f\"% (r_s[0]));\n",
    "plt.plot(t_init,r_sr,label = \"$r_{init}$ = %f\"% (r_sr[0]));\n",
    "plt.ylabel(r\"r (order parameter)\",fontsize=12)\n",
    "plt.ylim(0,1.1)\n",
    "plt.title(\"m=0 $1^{st}$ order Kuramoto\")\n",
    "plt.grid()\n",
    "plt.legend()\n",
    "\n",
    "plt.subplot(212)\n",
    "plt.plot(t_init,r_sm);\n",
    "plt.plot(t_init,r_smr);\n",
    "plt.ylabel(r\"r (order parameter)\",fontsize=12)\n",
    "plt.ylim(0,1.1)\n",
    "plt.title(\"m=2 $2^{nd}$ order Kuramoto\")\n",
    "plt.grid()\n",
    "\n",
    "plt.tight_layout()\n",
    "plt.savefig(f\"N=100/N = {N} time vs r.png\",dpi=400)"
   ]
  },
  {
   "cell_type": "markdown",
   "metadata": {},
   "source": [
    "## compare with Mean field model"
   ]
  },
  {
   "cell_type": "code",
   "execution_count": null,
   "metadata": {},
   "outputs": [],
   "source": [
    "def get_order_parameter(theta,N):\n",
    "    ''' get theta and return r and theta'''\n",
    "    rpsi = 1/N*np.sum(np.exp(1j*theta))\n",
    "    r = np.abs(rpsi)\n",
    "    psi = np.angle(rpsi)\n",
    "    return r,psi\n",
    "def Kuramoto_2nd_mf(Theta,t):\n",
    "    match m:\n",
    "        case 0:\n",
    "            # print(\"Case m = 0\")\n",
    "            theta = Theta[:N]\n",
    "            r,psi = get_order_parameter(theta,N)\n",
    "            dtheta = omega + K*r*np.sin(psi - theta)\n",
    "            return np.array([*dtheta,*np.zeros(N)])\n",
    "        case _:\n",
    "            # print(f\"Case m = {m}\") \n",
    "            theta,dtheta = Theta[:N],Theta[N:]\n",
    "            r,psi = get_order_parameter(theta,N)\n",
    "            ai,aj = np.meshgrid(theta,theta,sparse=True)\n",
    "            ddtheta = (1/m)*(-dtheta + omega + K*r*np.sin(psi - theta))\n",
    "            return np.array([*dtheta,*ddtheta])\n",
    "        \n",
    "\n",
    "def Kuramoto_2nd_mf_Allarg(Theta,t,omega,m,N):\n",
    "    match m:\n",
    "        case 0:\n",
    "            # print(\"Case m = 0\")\n",
    "            theta = Theta[:N]\n",
    "            r,psi = get_order_parameter(theta,N)\n",
    "            dtheta = omega + K*r*np.sin(psi - theta)\n",
    "            return np.array([*dtheta,*np.zeros(N)])\n",
    "        case _:\n",
    "            # print(f\"Case m = {m}\") \n",
    "            theta,dtheta = Theta[:N],Theta[N:]\n",
    "            r,psi = get_order_parameter(theta,N)\n",
    "            ai,aj = np.meshgrid(theta,theta,sparse=True)\n",
    "            ddtheta = (1/m)*(-dtheta + omega + K*r*np.sin(psi - theta))\n",
    "            return np.array([*dtheta,*ddtheta])"
   ]
  },
  {
   "cell_type": "code",
   "execution_count": null,
   "metadata": {},
   "outputs": [],
   "source": [
    "m=0\n",
    "temp_mf = RK4(Kuramoto_2nd_mf,np.array([*theta,*np.zeros(N)]),t_init)\n",
    "theta_s_mf=temp_mf[:,:N]\n",
    "dtheta_s_mf = temp_mf[:,N:]\n",
    "r_s_mf = np.abs(np.sum(np.exp(1j*theta_s_mf.T),axis=0))/N\n",
    "\n",
    "m=0\n",
    "thetar = np.ones(N)\n",
    "temp_sr_mf = RK4(Kuramoto_2nd_mf,np.array([*thetar,*np.zeros(N)]),t_init)\n",
    "theta_sr_mf=temp_sr_mf[:,:N]\n",
    "dtheta_sr_mf = temp_sr_mf[:,N:]\n",
    "r_sr_mf = np.abs(np.sum(np.exp(1j*theta_sr_mf.T),axis=0))/N\n",
    "\n",
    "m = 4\n",
    "temp2_mf = RK4(Kuramoto_2nd_mf,np.array([*theta,*np.zeros(N)]),t_init)\n",
    "theta_sm_mf=temp2_mf[:,:N]\n",
    "dtheta_sm_mf = temp2_mf[:,N:]\n",
    "r_sm_mf = np.abs(np.sum(np.exp(1j*theta_sm_mf.T),axis=0))/N\n",
    "m = 4\n",
    "temp2r_mf = RK4(Kuramoto_2nd_mf,np.array([*thetar,*np.zeros(N)]),t_init)\n",
    "theta_smr_mf=temp2r_mf[:,:N]\n",
    "dtheta_smr_mf = temp2r_mf[:,N:]\n",
    "r_smr_mf = np.abs(np.sum(np.exp(1j*theta_smr_mf.T),axis=0))/N"
   ]
  },
  {
   "cell_type": "code",
   "execution_count": null,
   "metadata": {},
   "outputs": [],
   "source": [
    "plt.subplot(211)\n",
    "plt.plot(t_init,r_s,label = f\"initial r = {r_sm[0]:.02f}\");\n",
    "plt.plot(t_init,r_sr,label = f\"initial r = {r_sr[0]:.02f}\");\n",
    "\n",
    "plt.plot(t_init,r_s_mf);\n",
    "plt.plot(t_init,r_sr_mf);\n",
    "plt.ylabel(r\"r (order parameter)\",fontsize=12)\n",
    "plt.ylim(0,1.1)\n",
    "plt.title(\"m=0 $1^{st}$ order Kuramoto\")\n",
    "plt.grid()\n",
    "plt.legend()\n",
    "\n",
    "plt.subplot(212)\n",
    "plt.plot(t_init,r_sm);\n",
    "plt.plot(t_init,r_smr);\n",
    "\n",
    "plt.plot(t_init,r_sm_mf,label = f\"Mean-field initial r = {r_sm[0]:.02f}\");\n",
    "plt.plot(t_init,r_smr_mf,label = f\"Mean-field initial r = {r_smr[0]:.02f}\");\n",
    "plt.ylabel(r\"r (order parameter)\",fontsize=12)\n",
    "plt.ylim(0,1.1)\n",
    "plt.title(\"m=2 $2^{nd}$ order Kuramoto\")\n",
    "plt.legend()\n",
    "plt.grid()\n",
    "\n",
    "plt.tight_layout()\n",
    "plt.savefig(f\"N=100/N = {N} time vs r w.mf .png\",dpi=400)"
   ]
  },
  {
   "cell_type": "code",
   "execution_count": null,
   "metadata": {},
   "outputs": [],
   "source": [
    "plt.plot(t_init,np.isclose(r_sm,r_sm_mf,rtol=1e-5, atol=2e-4))\n",
    "plt.plot(t_init,np.isclose(r_smr,r_smr_mf,rtol=1e-5, atol=7.9e-4))\n",
    "plt.yticks([0,1],labels=['False','True'])\n",
    "# plt.yticklabels(['False','True'])\n",
    "# plt.plot()\n"
   ]
  },
  {
   "cell_type": "code",
   "execution_count": null,
   "metadata": {},
   "outputs": [],
   "source": []
  },
  {
   "cell_type": "code",
   "execution_count": null,
   "metadata": {},
   "outputs": [],
   "source": [
    "t_init.shape"
   ]
  },
  {
   "cell_type": "code",
   "execution_count": null,
   "metadata": {},
   "outputs": [],
   "source": [
    "r_sm[0]"
   ]
  },
  {
   "cell_type": "code",
   "execution_count": null,
   "metadata": {},
   "outputs": [],
   "source": [
    "plt.hist([abs(r_smr-r_smr_mf),abs(r_sm-r_sm_mf)],density=True,bins=50,alpha=0.7, histtype='stepfilled',label = [f\"initial r = {r_smr[0]:.02f}\",f\"initial r = {r_sm[0]:.02f}\"])\n",
    "# plt.hist(abs(r_sm-r_sm_mf),bins=15,alpha=0.7, histtype='stepfilled',label = f\"initial r = {r_smr[0]:.02f}\")\n",
    "plt.legend()\n",
    "plt.xlabel('Absolute Difference (r) |(Original - M.F.)|',fontsize=15)\n",
    "plt.ylabel('Density',fontsize=15)\n",
    "plt.tight_layout()\n",
    "plt.savefig(f\"N=100/N = {N} histogram between mf .png\",dpi=400)\n"
   ]
  },
  {
   "cell_type": "markdown",
   "metadata": {},
   "source": [
    "## time check with giving all arg and Global args"
   ]
  },
  {
   "cell_type": "code",
   "execution_count": null,
   "metadata": {},
   "outputs": [],
   "source": [
    "%timeit RK4(Kuramoto_2nd_mf,np.array([*theta,*np.zeros(N)]),t_init)"
   ]
  },
  {
   "cell_type": "code",
   "execution_count": null,
   "metadata": {},
   "outputs": [],
   "source": [
    "%timeit RK4(Kuramoto_2nd_mf_Allarg,np.array([*theta,*np.zeros(N)]),t_init,args=(omega,m,N))"
   ]
  },
  {
   "cell_type": "code",
   "execution_count": null,
   "metadata": {},
   "outputs": [],
   "source": [
    "plt.subplot(211)\n",
    "plt.plot(t_init,np.sin(theta_smr));\n",
    "\n",
    "plt.subplot(212)\n",
    "plt.plot(t_init,np.sin(theta_smr_mf));"
   ]
  },
  {
   "cell_type": "code",
   "execution_count": null,
   "metadata": {},
   "outputs": [],
   "source": [
    "rs =scs.cauchy.rvs(0, 1, N,random_state=None)\n",
    "rs2 =scs.cauchy.rvs(0, 1, N,random_state=None)\n",
    "# np.random.seed(None)\n",
    "# nr = scs.cauchy.rvs(0, 1, N)"
   ]
  },
  {
   "cell_type": "code",
   "execution_count": null,
   "metadata": {},
   "outputs": [],
   "source": [
    "rs == rs2"
   ]
  },
  {
   "cell_type": "code",
   "execution_count": 2,
   "metadata": {},
   "outputs": [
    {
     "name": "stdout",
     "output_type": "stream",
     "text": [
      "default\n"
     ]
    }
   ],
   "source": [
    "temp1,  temp2  =  (None,1)\n",
    "\n",
    "match  temp1,  temp2:\n",
    "    case  None,None:\n",
    "        print(\"NN\",temp1,temp2)\n",
    "    case  _:\n",
    "        print(\"default\")"
   ]
  },
  {
   "cell_type": "code",
   "execution_count": null,
   "metadata": {},
   "outputs": [],
   "source": []
  }
 ],
 "metadata": {
  "kernelspec": {
   "display_name": "Python 3.10.2 64-bit",
   "language": "python",
   "name": "python3"
  },
  "language_info": {
   "codemirror_mode": {
    "name": "ipython",
    "version": 3
   },
   "file_extension": ".py",
   "mimetype": "text/x-python",
   "name": "python",
   "nbconvert_exporter": "python",
   "pygments_lexer": "ipython3",
   "version": "3.10.2"
  },
  "orig_nbformat": 4,
  "vscode": {
   "interpreter": {
    "hash": "21290bbfaef809b5729f03c25a69946f1e8195a209b2e095987c269e3dfe79ea"
   }
  }
 },
 "nbformat": 4,
 "nbformat_minor": 2
}
