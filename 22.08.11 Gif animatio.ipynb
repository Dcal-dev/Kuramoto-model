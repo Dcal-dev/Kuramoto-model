{
 "cells": [
  {
   "cell_type": "code",
   "execution_count": 1,
   "metadata": {},
   "outputs": [],
   "source": [
    "import numpy as np\n",
    "import matplotlib.pyplot as plt"
   ]
  },
  {
   "cell_type": "code",
   "execution_count": 2,
   "metadata": {},
   "outputs": [
    {
     "data": {
      "text/plain": [
       "'N = 500, Normal/Endotie = theta'"
      ]
     },
     "execution_count": 2,
     "metadata": {},
     "output_type": "execute_result"
    }
   ],
   "source": [
    "b_theta = np.load(\"N = 500, Quantile Lorentzian\\Endtime = 12600,theta, m = 0.95, backward time.npz.npy\")\n",
    "f_theta = np.load(\"N = 500, Quantile Lorentzian\\Endtime = 12600,theta, m = 0.95, forward time.npz.npy\")\n",
    "\n",
    "\"N = 500, Normal/Endotie = theta\""
   ]
  },
  {
   "cell_type": "code",
   "execution_count": 5,
   "metadata": {},
   "outputs": [
    {
     "data": {
      "text/plain": [
       "(61, 30001, 500)"
      ]
     },
     "execution_count": 5,
     "metadata": {},
     "output_type": "execute_result"
    }
   ],
   "source": [
    "b_theta.shape\n",
    "f_theta.shape"
   ]
  },
  {
   "cell_type": "code",
   "execution_count": 3,
   "metadata": {},
   "outputs": [
    {
     "ename": "NameError",
     "evalue": "name 'f_data_cliping' is not defined",
     "output_type": "error",
     "traceback": [
      "\u001b[1;31m---------------------------------------------------------------------------\u001b[0m",
      "\u001b[1;31mNameError\u001b[0m                                 Traceback (most recent call last)",
      "\u001b[1;32mc:\\Users\\kim9y\\Desktop\\Kuramoto\\Kuramoto-model\\22.08.11 Gif animatio.ipynb Cell 4\u001b[0m in \u001b[0;36m<cell line: 1>\u001b[1;34m()\u001b[0m\n\u001b[1;32m----> <a href='vscode-notebook-cell:/c%3A/Users/kim9y/Desktop/Kuramoto/Kuramoto-model/22.08.11%20Gif%20animatio.ipynb#W3sZmlsZQ%3D%3D?line=0'>1</a>\u001b[0m f_data_cliping \u001b[39m==\u001b[39m b_data_cliping\n",
      "\u001b[1;31mNameError\u001b[0m: name 'f_data_cliping' is not defined"
     ]
    }
   ],
   "source": [
    "f_data_cliping == b_data_cliping"
   ]
  },
  {
   "cell_type": "code",
   "execution_count": 12,
   "metadata": {},
   "outputs": [
    {
     "data": {
      "text/plain": [
       "(-1.1, 1.1)"
      ]
     },
     "execution_count": 12,
     "metadata": {},
     "output_type": "execute_result"
    },
    {
     "data": {
      "image/png": "[encoded data removed]",
      "text/plain": [
       "<Figure size 345.6x381.6 with 1 Axes>"
      ]
     },
     "metadata": {},
     "output_type": "display_data"
    }
   ],
   "source": [
    "time = 0\n",
    "# K_num = 19\n",
    "theta_f =f_theta[:,::500,:].reshape((-1,500))\n",
    "theta_b =b_theta[:,::500,:].reshape((-1,500))\n",
    "\n",
    "Ks = np.arange(0.1,12.5+0.2,0.2)\n",
    "Ks_b = np.arange(12.5,0.1-0.2,-0.2)\n",
    "temp =np.ones_like(b_theta[0,::500,0])\n",
    "Ksf = Ks[0]*temp\n",
    "Ksb = Ks_b[0]*temp\n",
    "for i in Ks[1:]:\n",
    "    Ksf = np.r_[Ksf,i*temp]\n",
    "for i in Ks_b[1:]:\n",
    "    Ksb= np.r_[Ksb,i*temp]\n",
    "phase = lambda x: (np.sin(x),np.cos(x))\n",
    "fig, ax = plt.subplots(1,1,figsize=(4.8,5.3),facecolor=\"white\")\n",
    "scat = ax.scatter(*phase(theta_f[time]))\n",
    "ax.set_title(f\"K ={Ksf[time]:.01f}\")\n",
    "Ks_=np.r_[Ksf,Ksb]\n",
    "theta_ = np.r_[theta_f,theta_b]\n",
    "ax.set_xlim((-1.1,1.1))\n",
    "ax.set_ylim((-1.1,1.1))\n"
   ]
  },
  {
   "cell_type": "code",
   "execution_count": 34,
   "metadata": {},
   "outputs": [
    {
     "data": {
      "text/plain": [
       "(1681,)"
      ]
     },
     "execution_count": 34,
     "metadata": {},
     "output_type": "execute_result"
    }
   ],
   "source": [
    "Ksb.shape"
   ]
  },
  {
   "cell_type": "code",
   "execution_count": 179,
   "metadata": {},
   "outputs": [
    {
     "data": {
      "text/plain": [
       "(2562, 500)"
      ]
     },
     "execution_count": 179,
     "metadata": {},
     "output_type": "execute_result"
    }
   ],
   "source": [
    "theta_.shape"
   ]
  },
  {
   "cell_type": "code",
   "execution_count": 147,
   "metadata": {},
   "outputs": [],
   "source": [
    "temp1 = Ks[0]*temp\n",
    "for i in Ks[1:]:\n",
    "    temp1 = np.r_[temp1,i*temp]"
   ]
  },
  {
   "cell_type": "code",
   "execution_count": 148,
   "metadata": {},
   "outputs": [
    {
     "data": {
      "text/plain": [
       "(1891,)"
      ]
     },
     "execution_count": 148,
     "metadata": {},
     "output_type": "execute_result"
    }
   ],
   "source": [
    "temp1.shape"
   ]
  },
  {
   "cell_type": "code",
   "execution_count": 114,
   "metadata": {},
   "outputs": [],
   "source": [
    "num=0\n",
    "theta  =  b_data_cliping[num]\n",
    "x,y  =  phase(theta)\n",
    "scat.set_array([x,y])"
   ]
  },
  {
   "cell_type": "code",
   "execution_count": 13,
   "metadata": {},
   "outputs": [],
   "source": [
    "def update_fwbw(num):\n",
    "    # near_num = t_near_indx[num]\n",
    "    theta  =  theta_[num]\n",
    "    x,y  =  phase(theta)\n",
    "    ax.clear()\n",
    "    ax.plot(x,y,'.')\n",
    "    ax.set_title(f\"K ={Ks_[num]:.01f}, time = {num*5:.01f}s\")\n",
    "    ax.set_xlim((-1.1,1.1))\n",
    "    ax.set_ylim((-1.1,1.1))\n",
    "\n",
    "\n",
    "def update_bw(num):\n",
    "    # near_num = t_near_indx[num]\n",
    "    theta  =  theta_b[num]\n",
    "    x,y  =  phase(theta)\n",
    "    ax.clear()\n",
    "    ax.plot(x,y,'.')\n",
    "    ax.set_title(f\"Backward, K ={Ksb[num]:.01f}, time = {(num*5):.01f}s\")\n",
    "    ax.set_xlim((-1.1,1.1))\n",
    "    ax.set_ylim((-1.1,1.1))\n",
    "\n",
    "def update_fw(num):\n",
    "    # near_num = t_near_indx[num]\n",
    "    theta  =  theta_f[num]\n",
    "    x,y  =  phase(theta)\n",
    "    ax.clear()\n",
    "    ax.plot(x,y,'.')\n",
    "    ax.set_title(f\"Forward, K ={Ksf[num]:.01f}, time = {(num*5):.01f}s\")\n",
    "    ax.set_xlim((-1.1,1.1))\n",
    "    ax.set_ylim((-1.1,1.1))"
   ]
  },
  {
   "cell_type": "code",
   "execution_count": 7,
   "metadata": {},
   "outputs": [],
   "source": [
    "from matplotlib import animation\n",
    "from IPython.display import HTML"
   ]
  },
  {
   "cell_type": "code",
   "execution_count": 14,
   "metadata": {},
   "outputs": [],
   "source": [
    "import matplotlib\n",
    "matplotlib.rcParams['animation.embed_limit'] = 2**128"
   ]
  },
  {
   "cell_type": "code",
   "execution_count": 15,
   "metadata": {},
   "outputs": [],
   "source": [
    "animfw = animation.FuncAnimation(fig, update_fw,\n",
    "         interval = 40, blit = False,frames = len(theta_f))"
   ]
  },
  {
   "cell_type": "code",
   "execution_count": null,
   "metadata": {},
   "outputs": [],
   "source": [
    "HTML(animfw.to_jshtml())"
   ]
  },
  {
   "cell_type": "code",
   "execution_count": 17,
   "metadata": {},
   "outputs": [],
   "source": [
    "dist = \"Quantile Lorentzian\""
   ]
  },
  {
   "cell_type": "code",
   "execution_count": 18,
   "metadata": {},
   "outputs": [],
   "source": [
    "animfw.save(f'Animation/{dist} Forward, N = 500, m = 0.95.mp4',dpi=400)"
   ]
  },
  {
   "cell_type": "code",
   "execution_count": 19,
   "metadata": {},
   "outputs": [],
   "source": [
    "animbw = animation.FuncAnimation(fig, update_bw,\n",
    "         interval = 40, blit = False,frames = len(theta_b))"
   ]
  },
  {
   "cell_type": "code",
   "execution_count": null,
   "metadata": {},
   "outputs": [],
   "source": [
    "HTML(animbw.to_jshtml())"
   ]
  },
  {
   "cell_type": "code",
   "execution_count": 21,
   "metadata": {},
   "outputs": [],
   "source": [
    "animbw.save('Animation/Backward, N = 500, m = 0.95.mp4',dpi=400)"
   ]
  },
  {
   "cell_type": "code",
   "execution_count": null,
   "metadata": {},
   "outputs": [],
   "source": []
  }
 ],
 "metadata": {
  "kernelspec": {
   "display_name": "Python 3.10.2 64-bit",
   "language": "python",
   "name": "python3"
  },
  "language_info": {
   "codemirror_mode": {
    "name": "ipython",
    "version": 3
   },
   "file_extension": ".py",
   "mimetype": "text/x-python",
   "name": "python",
   "nbconvert_exporter": "python",
   "pygments_lexer": "ipython3",
   "version": "3.10.2"
  },
  "orig_nbformat": 4,
  "vscode": {
   "interpreter": {
    "hash": "21290bbfaef809b5729f03c25a69946f1e8195a209b2e095987c269e3dfe79ea"
   }
  }
 },
 "nbformat": 4,
 "nbformat_minor": 2
}
