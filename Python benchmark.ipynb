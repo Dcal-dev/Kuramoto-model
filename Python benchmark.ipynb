{
 "cells": [
  {
   "cell_type": "code",
   "execution_count": 120,
   "metadata": {},
   "outputs": [],
   "source": [
    "import numpy as np\n",
    "import numpy.random as npr\n",
    "import matplotlib.pyplot as plt\n",
    "from scipy.stats import cauchy"
   ]
  },
  {
   "cell_type": "code",
   "execution_count": 132,
   "metadata": {},
   "outputs": [
    {
     "data": {
      "text/plain": [
       "1.5707963267948966"
      ]
     },
     "execution_count": 132,
     "metadata": {},
     "output_type": "execute_result"
    }
   ],
   "source": [
    "np.angle(1j)"
   ]
  },
  {
   "cell_type": "code",
   "execution_count": 180,
   "metadata": {},
   "outputs": [],
   "source": [
    "N = 6400\n",
    "omega = cauchy.rvs(loc=0,scale=1,size=N)\n",
    "theta = np.random.uniform(-np.pi,np.pi,size=N)\n",
    "Aij = np.ones((N,N)) - np.eye(N)\n",
    "K = 3"
   ]
  },
  {
   "cell_type": "code",
   "execution_count": 169,
   "metadata": {},
   "outputs": [],
   "source": [
    "\n",
    "def KURAMOTO(theta,t):\n",
    "    i,j = np.meshgrid(theta,theta)\n",
    "    inter = Aij*np.sin(j-i)\n",
    "    theta = omega + K*inter.sum(axis=0)/N\n",
    "    return theta\n",
    "# theta__ = omega + K*inter.sum(axis=0)/N\n",
    "\n",
    "\n",
    "def KURAMOTO_ivp(t,theta):\n",
    "    i,j = np.meshgrid(theta,theta)\n",
    "    inter = Aij*np.sin(j-i)\n",
    "    theta = omega + K*inter.sum(axis=0)/N\n",
    "    return theta\n",
    "\n",
    "def KURAMOTO_mean(theta,t):\n",
    "    rpsi = 1/N * np.sum(np.exp(1j*theta))\n",
    "    r = np.abs(rpsi)\n",
    "    psi = np.angle(rpsi)\n",
    "    dtheta = omega + K*r*np.sin(psi-theta)\n",
    "    return dtheta\n",
    "\n",
    "def KURAMOTO_mean_ivp(t,theta):\n",
    "    rpsi = 1/N * np.sum(np.exp(1j*theta))\n",
    "    r = np.abs(rpsi)\n",
    "    psi = np.angle(rpsi)\n",
    "    dtheta = omega + K*r*np.sin(psi-theta)\n",
    "    return dtheta\n",
    "# theta__ = omega + K*inter.sum(axis=0)/N\n",
    "\n",
    "# inter"
   ]
  },
  {
   "cell_type": "code",
   "execution_count": 87,
   "metadata": {},
   "outputs": [],
   "source": [
    "def RK4(f, y0, t, args=()):\n",
    "    n = len(t)\n",
    "    y = np.zeros((n, len(y0)))\n",
    "    y[0] = y0\n",
    "    \n",
    "    for i in range(n - 1):\n",
    "        h = t[i+1] - t[i]\n",
    "        k1 = f(y[i], t[i], *args)\n",
    "        k2 = f(y[i] + k1 * h / 2., t[i] + h / 2., *args)\n",
    "        k3 = f(y[i] + k2 * h / 2., t[i] + h / 2., *args)\n",
    "        k4 = f(y[i] + k3 * h, t[i] + h, *args)\n",
    "        y[i+1] = y[i] + (h / 6.) * (k1 + 2*k2 + 2*k3 + k4)\n",
    "    return y"
   ]
  },
  {
   "cell_type": "code",
   "execution_count": 161,
   "metadata": {},
   "outputs": [],
   "source": [
    "t = np.arange(0,10,0.01)"
   ]
  },
  {
   "cell_type": "code",
   "execution_count": 153,
   "metadata": {},
   "outputs": [
    {
     "name": "stdout",
     "output_type": "stream",
     "text": [
      "The memory_profiler extension is already loaded. To reload it, use:\n",
      "  %reload_ext memory_profiler\n"
     ]
    }
   ],
   "source": [
    "%load_ext memory_profiler\n",
    "%load_ext line_profiler"
   ]
  },
  {
   "cell_type": "code",
   "execution_count": 168,
   "metadata": {},
   "outputs": [
    {
     "name": "stdout",
     "output_type": "stream",
     "text": [
      "90.9 ms ± 0 ns per loop (mean ± std. dev. of 1 run, 144 loops each)\n"
     ]
    }
   ],
   "source": [
    "%timeit -r 1 -n 144 RK4(KURAMOTO_mean,theta,t)"
   ]
  },
  {
   "cell_type": "code",
   "execution_count": null,
   "metadata": {},
   "outputs": [],
   "source": []
  },
  {
   "cell_type": "code",
   "execution_count": 135,
   "metadata": {},
   "outputs": [],
   "source": [
    "sol = RK4(KURAMOTO_mean,theta,t)\n",
    "sol2 = RK4(KURAMOTO,theta,t)"
   ]
  },
  {
   "cell_type": "code",
   "execution_count": 45,
   "metadata": {},
   "outputs": [],
   "source": [
    "from scipy.integrate import solve_ivp"
   ]
  },
  {
   "cell_type": "code",
   "execution_count": 116,
   "metadata": {},
   "outputs": [],
   "source": [
    "sol = solve_ivp(KURAMOTO_ivp,(0,10),theta,dense_output=True)"
   ]
  },
  {
   "cell_type": "code",
   "execution_count": 182,
   "metadata": {},
   "outputs": [
    {
     "name": "stdout",
     "output_type": "stream",
     "text": [
      "peak memory: 649.05 MiB, increment: 106.42 MiB\n"
     ]
    }
   ],
   "source": [
    "%memit sol = solve_ivp(KURAMOTO_mean_ivp,(0,10),theta,method=\"RK45\",dense_output=True); sol.sol(t)"
   ]
  },
  {
   "cell_type": "code",
   "execution_count": 174,
   "metadata": {},
   "outputs": [
    {
     "data": {
      "text/plain": [
       "  message: 'The solver successfully reached the end of the integration interval.'\n",
       "     nfev: 182\n",
       "     njev: 0\n",
       "      nlu: 0\n",
       "      sol: <scipy.integrate._ivp.common.OdeSolution object at 0x0000021905D563B0>\n",
       "   status: 0\n",
       "  success: True\n",
       "        t: array([ 0.        ,  0.04858467,  0.39593571,  0.82658916,  1.20609231,\n",
       "        1.55425819,  1.9609267 ,  2.33650142,  2.68844869,  3.01766358,\n",
       "        3.40584446,  3.79402534,  4.13298242,  4.45775788,  4.76090849,\n",
       "        5.08386517,  5.44089694,  5.79715284,  6.1489275 ,  6.56602406,\n",
       "        6.97703924,  7.473334  ,  7.93473648,  8.42254225,  9.05658115,\n",
       "        9.60725542, 10.        ])\n",
       " t_events: None\n",
       "        y: array([[-3.66364931e-02,  1.06390489e-01,  1.09285975e+00, ...,\n",
       "         1.80704705e+01,  2.02427956e+01,  2.11388478e+01],\n",
       "       [-2.99038767e+00, -2.70932814e+00, -5.36414967e-01, ...,\n",
       "         5.22709367e+01,  5.49446501e+01,  5.77792639e+01],\n",
       "       [ 1.70086021e+00,  1.71777639e+00,  1.78849736e+00, ...,\n",
       "         1.88529212e+00,  1.89353125e+00,  1.91145348e+00],\n",
       "       ...,\n",
       "       [-2.66626589e+00, -2.65182705e+00, -2.53914509e+00, ...,\n",
       "         2.12212731e+00,  2.11465263e+00,  2.14540606e+00],\n",
       "       [ 2.95793920e-01,  2.12603919e-01, -3.62875053e-01, ...,\n",
       "        -1.37793744e+01, -1.53603904e+01, -1.67081158e+01],\n",
       "       [-2.98152261e+00, -3.01888698e+00, -3.30398542e+00, ...,\n",
       "        -4.81651925e+00, -4.77992139e+00, -4.78581622e+00]])\n",
       " y_events: None"
      ]
     },
     "execution_count": 174,
     "metadata": {},
     "output_type": "execute_result"
    }
   ],
   "source": [
    "sol"
   ]
  },
  {
   "cell_type": "code",
   "execution_count": 164,
   "metadata": {},
   "outputs": [
    {
     "data": {
      "text/plain": [
       "[<matplotlib.lines.Line2D at 0x21905d16a40>]"
      ]
     },
     "execution_count": 164,
     "metadata": {},
     "output_type": "execute_result"
    },
    {
     "data": {
      "image/png": "[encoded data removed]",
      "text/plain": [
       "<Figure size 432x288 with 1 Axes>"
      ]
     },
     "metadata": {
      "needs_background": "light"
     },
     "output_type": "display_data"
    }
   ],
   "source": [
    "plt.plot(t,abs((np.exp(sol*1j)).sum(axis=1)))\n",
    "plt.plot(t,abs((np.exp(sol2*1j)).sum(axis=1)))"
   ]
  },
  {
   "cell_type": "code",
   "execution_count": null,
   "metadata": {},
   "outputs": [],
   "source": []
  }
 ],
 "metadata": {
  "kernelspec": {
   "display_name": "Python 3.10.2 64-bit",
   "language": "python",
   "name": "python3"
  },
  "language_info": {
   "codemirror_mode": {
    "name": "ipython",
    "version": 3
   },
   "file_extension": ".py",
   "mimetype": "text/x-python",
   "name": "python",
   "nbconvert_exporter": "python",
   "pygments_lexer": "ipython3",
   "version": "3.10.2"
  },
  "orig_nbformat": 4,
  "vscode": {
   "interpreter": {
    "hash": "21290bbfaef809b5729f03c25a69946f1e8195a209b2e095987c269e3dfe79ea"
   }
  }
 },
 "nbformat": 4,
 "nbformat_minor": 2
}
