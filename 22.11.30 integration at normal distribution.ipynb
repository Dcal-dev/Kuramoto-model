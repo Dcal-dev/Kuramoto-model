{
 "cells": [
  {
   "cell_type": "markdown",
   "metadata": {},
   "source": [
    "# Integration \n",
    "> 이론적인 적분을 하기 힘든 함수를 scipy integrate or sympy 를 이용해서 구할 예정이다."
   ]
  },
  {
   "cell_type": "code",
   "execution_count": 1,
   "metadata": {},
   "outputs": [],
   "source": [
    "from scipy.integrate import quad\n",
    "import scipy.stats as SS\n",
    "import numpy as np\n",
    "import matplotlib.pyplot as plt\n",
    "\n",
    "import sympy as sym"
   ]
  },
  {
   "cell_type": "code",
   "execution_count": 2,
   "metadata": {},
   "outputs": [],
   "source": [
    "def integrand(x):\n",
    "    return np.sin(x)"
   ]
  },
  {
   "cell_type": "code",
   "execution_count": 3,
   "metadata": {},
   "outputs": [],
   "source": [
    "x,y = sym.symbols('x y')"
   ]
  },
  {
   "cell_type": "code",
   "execution_count": 4,
   "metadata": {},
   "outputs": [],
   "source": [
    "g_c = lambda x : SS.cauchy.pdf(x,0,1)\n",
    "g_n = lambda x : SS.norm.pdf(x,0,1)"
   ]
  },
  {
   "cell_type": "code",
   "execution_count": 11,
   "metadata": {},
   "outputs": [
    {
     "data": {
      "text/latex": [
       "$\\displaystyle x_{dot}$"
      ],
      "text/plain": [
       "x_dot"
      ]
     },
     "execution_count": 11,
     "metadata": {},
     "output_type": "execute_result"
    }
   ],
   "source": [
    "x,y,z,r,psi,t = sym.symbols('x y z r psi t')\n",
    "a = sym.symbols('a')\n",
    "x_dot,y_dot,z_dot,r_dot,psi_dot,t_dot = sym.symbols('x_dot y_dot z_dot r_dot psi_dot t_dot')\n",
    "x_dot"
   ]
  },
  {
   "cell_type": "code",
   "execution_count": 73,
   "metadata": {},
   "outputs": [],
   "source": [
    "X = r*sym.cos(psi)\n",
    "Y = r*sym.sin(psi)\n",
    "dX = r_dot*sym.cos(psi) -Y*psi_dot\n",
    "dY = r_dot*sym.sin(psi) +X*psi_dot"
   ]
  },
  {
   "cell_type": "code",
   "execution_count": 74,
   "metadata": {},
   "outputs": [
    {
     "data": {
      "text/latex": [
       "$\\displaystyle r^{2}$"
      ],
      "text/plain": [
       "r**2"
      ]
     },
     "execution_count": 74,
     "metadata": {},
     "output_type": "execute_result"
    }
   ],
   "source": [
    "sym.simplify(X**2 +Y**2)"
   ]
  },
  {
   "cell_type": "code",
   "execution_count": 64,
   "metadata": {},
   "outputs": [],
   "source": [
    "dX,dY,X,Y = sym.symbols('dX,dY,X,Y')"
   ]
  },
  {
   "cell_type": "code",
   "execution_count": 75,
   "metadata": {},
   "outputs": [],
   "source": [
    "F =dX**2 +dY**2 - (X*dX + Y*dY)**2/(a**2+r**2)"
   ]
  },
  {
   "cell_type": "code",
   "execution_count": 77,
   "metadata": {},
   "outputs": [
    {
     "data": {
      "text/latex": [
       "$\\displaystyle \\frac{- r^{2} r_{dot}^{2} + \\left(a^{2} + r^{2}\\right) \\left(\\psi_{dot}^{2} r^{2} + r_{dot}^{2}\\right)}{a^{2} + r^{2}}$"
      ],
      "text/plain": [
       "(-r**2*r_dot**2 + (a**2 + r**2)*(psi_dot**2*r**2 + r_dot**2))/(a**2 + r**2)"
      ]
     },
     "execution_count": 77,
     "metadata": {},
     "output_type": "execute_result"
    }
   ],
   "source": [
    "co_F = sym.simplify(F)\n",
    "sym.collect(co_F,dX)"
   ]
  },
  {
   "cell_type": "code",
   "execution_count": 28,
   "metadata": {},
   "outputs": [
    {
     "data": {
      "text/latex": [
       "$\\displaystyle dX^{2} + dY^{2}$"
      ],
      "text/plain": [
       "dX**2 + dY**2"
      ]
     },
     "execution_count": 28,
     "metadata": {},
     "output_type": "execute_result"
    }
   ],
   "source": [
    "sym.simplify(dX**2+dY**2)"
   ]
  },
  {
   "cell_type": "code",
   "execution_count": 5,
   "metadata": {},
   "outputs": [],
   "source": [
    "def r_lock1(X,m,g):\n",
    "    integrand = lambda x:np.cos(x)**2*g(X*np.sin(x))\n",
    "    omega_p = (4/np.pi)*np.sqrt(X/m)\n",
    "    theta_p = np.arcsin(omega_p/X)\n",
    "    I_ = quad(integrand,-theta_p,theta_p)\n",
    "    return X*I_[0]\n",
    "\n",
    "\n",
    "def r_lock2(X,m,g):\n",
    "    integrand = lambda x:np.cos(x)**2*g(X*np.sin(x))\n",
    "    I_ = quad(integrand,-np.pi/2,np.pi/2)\n",
    "    return X*I_[0]\n",
    "\n",
    "def r_drift2(X,m,g):\n",
    "    O_d = X\n",
    "    A = lambda x:1/(x**3)\n",
    "    integrand = lambda x:A(x)*g(x)\n",
    "    I_ = quad(integrand,O_d,np.inf)\n",
    "    return X/(m**2)*I_[0]\n",
    "\n",
    "def r_drift1(X,m,g):\n",
    "    O_p = (4/np.pi)*np.sqrt(X/m)\n",
    "    A = lambda x:1/(x**3)\n",
    "    integrand = lambda x:A(x)*g(x)\n",
    "    I_ = quad(integrand,O_p,np.inf)\n",
    "    return X/(m**2)*I_[0]"
   ]
  },
  {
   "cell_type": "code",
   "execution_count": 1,
   "metadata": {},
   "outputs": [],
   "source": [
    "from TO_sim.analytical import order_parameter as RR\n",
    "from TO_sim.To_Draw import Draw_theoretical_wData as DD\n",
    "import parmap\n",
    "import numpy as np\n",
    "import matplotlib.pyplot as plt"
   ]
  },
  {
   "cell_type": "code",
   "execution_count": 3,
   "metadata": {},
   "outputs": [],
   "source": [
    "X = np.logspace(np.log10(0.1),np.log10(50),num=1000,base=10)"
   ]
  },
  {
   "cell_type": "code",
   "execution_count": 4,
   "metadata": {},
   "outputs": [],
   "source": [
    "m = 0.95"
   ]
  },
  {
   "cell_type": "code",
   "execution_count": 5,
   "metadata": {},
   "outputs": [
    {
     "data": {
      "application/vnd.jupyter.widget-view+json": {
       "model_id": "939f72d78adf471dadc7ce911436161f",
       "version_major": 2,
       "version_minor": 0
      },
      "text/plain": [
       "  0%|          | 0/1000 [00:00<?, ?it/s]"
      ]
     },
     "metadata": {},
     "output_type": "display_data"
    },
    {
     "data": {
      "application/vnd.jupyter.widget-view+json": {
       "model_id": "54870e8bfee64966b5bdb783ab04f524",
       "version_major": 2,
       "version_minor": 0
      },
      "text/plain": [
       "  0%|          | 0/1000 [00:00<?, ?it/s]"
      ]
     },
     "metadata": {},
     "output_type": "display_data"
    },
    {
     "data": {
      "application/vnd.jupyter.widget-view+json": {
       "model_id": "0986ee3a31bb4361a1d659e4c36e5bf9",
       "version_major": 2,
       "version_minor": 0
      },
      "text/plain": [
       "  0%|          | 0/1000 [00:00<?, ?it/s]"
      ]
     },
     "metadata": {},
     "output_type": "display_data"
    },
    {
     "data": {
      "application/vnd.jupyter.widget-view+json": {
       "model_id": "65513b1f33284f57a523bdec10ddb855",
       "version_major": 2,
       "version_minor": 0
      },
      "text/plain": [
       "  0%|          | 0/1000 [00:00<?, ?it/s]"
      ]
     },
     "metadata": {},
     "output_type": "display_data"
    }
   ],
   "source": [
    "r_l1=parmap.map(RR.r_lock1,X,m=m,g=RR.g_n,pm_processes=16,pm_pbar=True)\n",
    "r_l2=parmap.map(RR.r_lock2,X,m=m,g=RR.g_n,pm_processes=16,pm_pbar=True)\n",
    "r_d1=parmap.map(RR.r_drift1,X,m=m,g=RR.g_n,pm_processes=16,pm_pbar=True)\n",
    "r_d2=parmap.map(RR.r_drift2,X,m=m,g=RR.g_n,pm_processes=16,pm_pbar=True)"
   ]
  },
  {
   "cell_type": "code",
   "execution_count": 7,
   "metadata": {},
   "outputs": [
    {
     "name": "stderr",
     "output_type": "stream",
     "text": [
      "C:\\Users\\kim9y\\AppData\\Local\\Temp\\ipykernel_41636\\1897647444.py:15: RuntimeWarning: divide by zero encountered in true_divide\n",
      "  TEMP_2 = (X/K_)[abs(r_case2-X/K_)<1e-3]\n",
      "C:\\Users\\kim9y\\AppData\\Local\\Temp\\ipykernel_41636\\1897647444.py:20: RuntimeWarning: divide by zero encountered in true_divide\n",
      "  TEMP_1 = (X/K_)[abs(r_case1-X/K_)<1e-3]\n"
     ]
    }
   ],
   "source": [
    "\n",
    "r_case1 = r_l1+r_d1\n",
    "r_case2 = r_l2+r_d2\n",
    "\n",
    "r_l2,r_d2,r_l1,r_d1 = map(np.array,[r_l2,r_d2,r_l1,r_d1])\n",
    "\n",
    "KF =[]\n",
    "RF =[]\n",
    "KB =[]\n",
    "RB =[]\n",
    "Ks = np.linspace(0,13,20000)\n",
    "for K_  in  Ks:\n",
    "        i=0\n",
    "        # plt.plot(X,X/K_)\n",
    "        i+=1\n",
    "        TEMP_2 = (X/K_)[abs(r_case2-X/K_)<1e-3]\n",
    "        if len(TEMP_2)!=0:\n",
    "            for R_ in TEMP_2:\n",
    "                KB.append(K_)\n",
    "                RB.append(R_)\n",
    "        TEMP_1 = (X/K_)[abs(r_case1-X/K_)<1e-3]\n",
    "        if len(TEMP_1)!=0:\n",
    "            for R_ in TEMP_1:\n",
    "                KF.append(K_)\n",
    "                RF.append(R_)\n",
    "                    "
   ]
  },
  {
   "cell_type": "code",
   "execution_count": 74,
   "metadata": {},
   "outputs": [],
   "source": [
    "Ks = np.linspace(1.6,13,20000)"
   ]
  },
  {
   "cell_type": "code",
   "execution_count": 75,
   "metadata": {},
   "outputs": [],
   "source": [
    "r_case1 = r_l1+r_d1\n",
    "r_case2 = r_l2+r_d2\n",
    "\n",
    "r_l2,r_d2,r_l1,r_d1 = map(np.array,[r_l2,r_d2,r_l1,r_d1])\n",
    "\n",
    "KF =[]\n",
    "RF =[]\n",
    "KB =[]\n",
    "RB =[]\n",
    "\n",
    "for K_  in  Ks[::1]:\n",
    "        i=0\n",
    "        # plt.plot(X,X/K_)\n",
    "        i+=1\n",
    "        TEMP_2 = (X/K_)[abs(r_case2-X/K_)<1e-3]\n",
    "        if len(TEMP_2)!=0:\n",
    "            for R_ in TEMP_2:\n",
    "                KB.append(K_)\n",
    "                RB.append(R_)\n",
    "        TEMP_1 = (X/K_)[abs(r_case1-X/K_)<1e-3]\n",
    "        if len(TEMP_1)!=0:\n",
    "            for R_ in TEMP_1:\n",
    "                KF.append(K_)\n",
    "                RF.append(R_)\n",
    "                    \n",
    "                    "
   ]
  },
  {
   "cell_type": "code",
   "execution_count": 76,
   "metadata": {},
   "outputs": [],
   "source": [
    "\n",
    "KF =[]\n",
    "RF =[]\n",
    "KB =[]\n",
    "RB =[]\n",
    "\n",
    "for K_  in  Ks[::1]:\n",
    "        i=0\n",
    "        # plt.plot(X,X/K_)\n",
    "        i+=1\n",
    "        TEMP_2 = (X/K_)[abs(r_case2-X/K_)<1e-3]\n",
    "        if len(TEMP_2)!=0:\n",
    "            for R_ in TEMP_2:\n",
    "                KB.append(K_)\n",
    "                RB.append(R_)\n",
    "        TEMP_1 = (X/K_)[abs(r_case1-X/K_)<1e-3]\n",
    "        if len(TEMP_1)!=0:\n",
    "            for R_ in TEMP_1:\n",
    "                KF.append(K_)\n",
    "                RF.append(R_)\n",
    "                    \n",
    "                    "
   ]
  },
  {
   "cell_type": "code",
   "execution_count": 7,
   "metadata": {},
   "outputs": [],
   "source": [
    "m =8"
   ]
  },
  {
   "cell_type": "code",
   "execution_count": 8,
   "metadata": {},
   "outputs": [
    {
     "data": {
      "application/vnd.jupyter.widget-view+json": {
       "model_id": "4942259e5225404b981b691913bb5b10",
       "version_major": 2,
       "version_minor": 0
      },
      "text/plain": [
       "  0%|          | 0/1000 [00:00<?, ?it/s]"
      ]
     },
     "metadata": {},
     "output_type": "display_data"
    },
    {
     "data": {
      "application/vnd.jupyter.widget-view+json": {
       "model_id": "2c9090a57bb548a88432f172d58cfb68",
       "version_major": 2,
       "version_minor": 0
      },
      "text/plain": [
       "  0%|          | 0/1000 [00:00<?, ?it/s]"
      ]
     },
     "metadata": {},
     "output_type": "display_data"
    },
    {
     "data": {
      "application/vnd.jupyter.widget-view+json": {
       "model_id": "4ce662b697ec42a9bc3fe8b9176c264c",
       "version_major": 2,
       "version_minor": 0
      },
      "text/plain": [
       "  0%|          | 0/1000 [00:00<?, ?it/s]"
      ]
     },
     "metadata": {},
     "output_type": "display_data"
    },
    {
     "data": {
      "application/vnd.jupyter.widget-view+json": {
       "model_id": "0a404918c25f460c84c44a5b6736b68d",
       "version_major": 2,
       "version_minor": 0
      },
      "text/plain": [
       "  0%|          | 0/1000 [00:00<?, ?it/s]"
      ]
     },
     "metadata": {},
     "output_type": "display_data"
    },
    {
     "data": {
      "image/png": "[encoded data removed]",
      "text/plain": [
       "<Figure size 432x288 with 1 Axes>"
      ]
     },
     "metadata": {
      "needs_background": "light"
     },
     "output_type": "display_data"
    }
   ],
   "source": [
    "Draw_ = DD(m,dist='normal')\n",
    "Draw_.total()"
   ]
  },
  {
   "cell_type": "code",
   "execution_count": 11,
   "metadata": {},
   "outputs": [
    {
     "ename": "NameError",
     "evalue": "name 'r_lock2' is not defined",
     "output_type": "error",
     "traceback": [
      "\u001b[1;31m---------------------------------------------------------------------------\u001b[0m",
      "\u001b[1;31mNameError\u001b[0m                                 Traceback (most recent call last)",
      "\u001b[1;32mc:\\Users\\kim9y\\Desktop\\Kuramoto\\Kuramoto-model\\22.11.30 integration at normal distribution.ipynb Cell 16\u001b[0m in \u001b[0;36m<cell line: 1>\u001b[1;34m()\u001b[0m\n\u001b[1;32m----> <a href='vscode-notebook-cell:/c%3A/Users/kim9y/Desktop/Kuramoto/Kuramoto-model/22.11.30%20integration%20at%20normal%20distribution.ipynb#X54sZmlsZQ%3D%3D?line=0'>1</a>\u001b[0m r_lock2(\u001b[39m0.1\u001b[39m,m,g_c)\n",
      "\u001b[1;31mNameError\u001b[0m: name 'r_lock2' is not defined"
     ]
    }
   ],
   "source": [
    "r_lock2(0.1,m,g_c)"
   ]
  },
  {
   "cell_type": "code",
   "execution_count": 10,
   "metadata": {},
   "outputs": [
    {
     "data": {
      "text/plain": [
       "[<matplotlib.lines.Line2D at 0x16de96f1f30>]"
      ]
     },
     "execution_count": 10,
     "metadata": {},
     "output_type": "execute_result"
    },
    {
     "data": {
      "image/png": "[encoded data removed]",
      "text/plain": [
       "<Figure size 432x288 with 1 Axes>"
      ]
     },
     "metadata": {
      "needs_background": "light"
     },
     "output_type": "display_data"
    }
   ],
   "source": [
    "# plt.plot(X,r_l2)\n",
    "# plt.plot(X,r_d2)\n",
    "plt.plot(X,r_d1+r_l1)\n",
    "plt.plot(X,r_d2+r_l2)\n",
    "# plt.xlim(0,0.1)\n",
    "# plt.plot(X,R1)\n",
    "# plt.plot(X,R2)"
   ]
  },
  {
   "cell_type": "code",
   "execution_count": 13,
   "metadata": {},
   "outputs": [
    {
     "data": {
      "text/plain": [
       "[<matplotlib.lines.Line2D at 0x16de989c2e0>]"
      ]
     },
     "execution_count": 13,
     "metadata": {},
     "output_type": "execute_result"
    },
    {
     "data": {
      "image/png": "[encoded data removed]",
      "text/plain": [
       "<Figure size 432x288 with 1 Axes>"
      ]
     },
     "metadata": {
      "needs_background": "light"
     },
     "output_type": "display_data"
    }
   ],
   "source": [
    "plt.plot(X,r_d1)\n",
    "plt.plot(X,r_d2)"
   ]
  },
  {
   "cell_type": "code",
   "execution_count": 52,
   "metadata": {},
   "outputs": [],
   "source": [
    "X = ss.Cauchy(x,0,d)\n",
    "g = ss.density(X)"
   ]
  },
  {
   "cell_type": "code",
   "execution_count": 68,
   "metadata": {},
   "outputs": [],
   "source": [
    "def integrand(theta):\n",
    "    f = sm.simplify(sm.cos(theta)**2*g(A*sm.sin(theta)))*sm.pi\n",
    "    return f"
   ]
  },
  {
   "cell_type": "code",
   "execution_count": 43,
   "metadata": {},
   "outputs": [
    {
     "data": {
      "text/latex": [
       "$\\displaystyle 1 - \\cos{\\left(1 \\right)}$"
      ],
      "text/plain": [
       "1 - cos(1)"
      ]
     },
     "execution_count": 43,
     "metadata": {},
     "output_type": "execute_result"
    }
   ],
   "source": [
    "sm.integrate(integrand(x),(x,0,1))"
   ]
  },
  {
   "cell_type": "code",
   "execution_count": 53,
   "metadata": {},
   "outputs": [],
   "source": [
    "def temp(x,m,d):\n",
    "    O_p = (4/np.pi)*np.sqrt(x/m)\n",
    "    t_p = np.arcsin(O_p/x)\n",
    "    pi = np.pi\n",
    "    r_drift1 = (x/m**2)*((1/(pi*d**3))*np.log(np.sqrt(d**2+O_p**2)/O_p)-1/(2*pi*d*O_p**2))\n",
    "    return r_drift1\n",
    "\n",
    "temp2 = lambda x,m,d:(x/(m**2))*((1/(np.pi*d**3))*np.log(np.sqrt(d**2+x**2)/(x))-1/(2*np.pi*d*x**2))"
   ]
  },
  {
   "cell_type": "code",
   "execution_count": 55,
   "metadata": {},
   "outputs": [
    {
     "data": {
      "text/plain": [
       "[<matplotlib.lines.Line2D at 0x151d2923a60>]"
      ]
     },
     "execution_count": 55,
     "metadata": {},
     "output_type": "execute_result"
    },
    {
     "data": {
      "image/png": "[encoded data removed]",
      "text/plain": [
       "<Figure size 432x288 with 1 Axes>"
      ]
     },
     "metadata": {
      "needs_background": "light"
     },
     "output_type": "display_data"
    }
   ],
   "source": [
    "# plt.plot(X,temp(X,m,1))\n",
    "plt.plot(X,temp2(X,m,1))"
   ]
  },
  {
   "cell_type": "code",
   "execution_count": 44,
   "metadata": {},
   "outputs": [],
   "source": [
    "def normal(x,mu,sig):\n",
    "    A = 1/(sig*sm.sqrt(2*sm.pi))\n",
    "    B = -1/2*((x-mu)/sig)\n",
    "    return A*sm.exp(B)"
   ]
  },
  {
   "cell_type": "code",
   "execution_count": 45,
   "metadata": {},
   "outputs": [
    {
     "data": {
      "text/latex": [
       "$\\displaystyle \\infty$"
      ],
      "text/plain": [
       "oo"
      ]
     },
     "execution_count": 45,
     "metadata": {},
     "output_type": "execute_result"
    }
   ],
   "source": [
    "sm.integrate(normal(x,0,1),(x,-np.inf,np.inf))\n"
   ]
  },
  {
   "cell_type": "code",
   "execution_count": 46,
   "metadata": {},
   "outputs": [],
   "source": [
    "X = ss.Cauchy(x,0,d)"
   ]
  },
  {
   "cell_type": "code",
   "execution_count": 49,
   "metadata": {},
   "outputs": [
    {
     "data": {
      "text/latex": [
       "$\\displaystyle \\frac{1}{\\pi d \\left(1 + \\frac{9}{d^{2}}\\right)}$"
      ],
      "text/plain": [
       "1/(pi*d*(1 + 9/d**2))"
      ]
     },
     "execution_count": 49,
     "metadata": {},
     "output_type": "execute_result"
    }
   ],
   "source": [
    "ss.density(X)(3)"
   ]
  },
  {
   "cell_type": "markdown",
   "metadata": {},
   "source": [
    "# simulation check"
   ]
  },
  {
   "cell_type": "code",
   "execution_count": 9,
   "metadata": {},
   "outputs": [],
   "source": [
    "from TO_sim.Sol_Kuramoto import *\n",
    "from TO_sim.gen_Distribution import *\n",
    "import matplotlib.pyplot as plt\n",
    "import numpy as np\n",
    "\n",
    "from tqdm.notebook import tqdm\n",
    "import pandas as pd\n",
    "\n",
    "from TO_sim.Hysteresis_Kuramoto import Hysteresis_pd_init_pvel_sim as Hp\n",
    "from TO_sim.Utility import *\n",
    "import parmap"
   ]
  },
  {
   "cell_type": "code",
   "execution_count": 78,
   "metadata": {},
   "outputs": [
    {
     "data": {
      "application/vnd.jupyter.widget-view+json": {
       "model_id": "c885cd6ac31d4c95959f5b53c7ac00cf",
       "version_major": 2,
       "version_minor": 0
      },
      "text/plain": [
       "  0%|          | 0/63 [00:00<?, ?it/s]"
      ]
     },
     "metadata": {},
     "output_type": "display_data"
    },
    {
     "data": {
      "application/vnd.jupyter.widget-view+json": {
       "model_id": "1abeb23f734942b781c03aec17dcc5de",
       "version_major": 2,
       "version_minor": 0
      },
      "text/plain": [
       "  0%|          | 0/63 [00:00<?, ?it/s]"
      ]
     },
     "metadata": {},
     "output_type": "display_data"
    }
   ],
   "source": [
    "N = 500\n",
    "dist = 'Quantile Normal'\n",
    "t_end = 200\n",
    "ss = 14\n",
    "N = 500\n",
    "dK = 0.2\n",
    "dt = 0.1\n",
    "m = 0.95\n",
    "applys = [1]\n",
    "save = True\n",
    "    \n",
    "df_sets = {}\n",
    "rdf_sets = {}\n",
    "\n",
    "for A in applys:\n",
    "    df,rdf = Hp(m,N=N,t_end=t_end,dist = dist,dt = 0.1,dK=dK, shuffle = True, shuffle_seed = ss+1,Init_dtheta=False,Init_dtheta_seed=A, seed=7)\n",
    "    df_sets[A] = df\n",
    "    rdf_sets[A] = rdf"
   ]
  },
  {
   "cell_type": "code",
   "execution_count": 24,
   "metadata": {},
   "outputs": [],
   "source": [
    "DF = 'Review/22.11.30/Normal distribution/'\n",
    "Create_Folder(DF)"
   ]
  },
  {
   "cell_type": "code",
   "execution_count": 33,
   "metadata": {},
   "outputs": [],
   "source": [
    "m=2"
   ]
  },
  {
   "cell_type": "code",
   "execution_count": 79,
   "metadata": {},
   "outputs": [
    {
     "data": {
      "image/png": "[encoded data removed]",
      "text/plain": [
       "<Figure size 432x288 with 1 Axes>"
      ]
     },
     "metadata": {
      "needs_background": "light"
     },
     "output_type": "display_data"
    }
   ],
   "source": [
    "ST = 50\n",
    "Ks = df.index\n",
    "Ksr = rdf.index\n",
    "data_rs = [np.mean(df.rs.iloc[i][-ST*10:]) for i in range(len(Ks))]\n",
    "data_rrs = [np.mean(rdf.rs.iloc[i][-ST*10:]) for i in range(len(Ks))]\n",
    "Draw_.total()\n",
    "\n",
    "plt.plot(Ks,data_rs,'.',label=r\"$Forward$\",markersize=6,color = 'Tab:Blue',)\n",
    "plt.plot(Ksr,data_rrs,'.',label=r\"$Backward$\",markersize=6,color = 'Tab:Orange',)\n",
    "plt.legend()  \n",
    "plt.title(f'K vs r graph, m = {m}',fontsize= 15)\n",
    "plt.grid()\n",
    "\n",
    "plt.xlim(1,13)\n",
    "plt.ylim(0,1)\n",
    "\n",
    "plt.xlabel('K : Coupling constant',fontsize=13)\n",
    "plt.ylabel('r : Order parameter',fontsize=13)\n",
    "plt.tight_layout()\n",
    "plt.savefig(DF+f'{dist},m = {m}, K vs r graph.png',dpi=400)"
   ]
  },
  {
   "cell_type": "code",
   "execution_count": null,
   "metadata": {},
   "outputs": [],
   "source": []
  }
 ],
 "metadata": {
  "kernelspec": {
   "display_name": "Python 3.10.2 64-bit",
   "language": "python",
   "name": "python3"
  },
  "language_info": {
   "codemirror_mode": {
    "name": "ipython",
    "version": 3
   },
   "file_extension": ".py",
   "mimetype": "text/x-python",
   "name": "python",
   "nbconvert_exporter": "python",
   "pygments_lexer": "ipython3",
   "version": "3.10.2"
  },
  "orig_nbformat": 4,
  "vscode": {
   "interpreter": {
    "hash": "21290bbfaef809b5729f03c25a69946f1e8195a209b2e095987c269e3dfe79ea"
   }
  }
 },
 "nbformat": 4,
 "nbformat_minor": 2
}
