{
 "cells": [
  {
   "cell_type": "markdown",
   "metadata": {},
   "source": [
    "# 22.10.04에서 확인한 결과에서 계속\n",
    "위상을 섞을 경우 Kc보다 놓은 곳에서 동기화가 일어날 수도 혹은 아닐 수도 있다.\n",
    "Kuramoto 2nd model에서 hysterisis처럼 이전 위상과, $\\dot{\\theta}$를 가지고 K를 증가 시켜가는 과정에서, 초기 $\\theta$를 섞으면 어떻게 나오는지 반복해 가며 확인해 볼 예정이다."
   ]
  },
  {
   "cell_type": "code",
   "execution_count": null,
   "metadata": {},
   "outputs": [],
   "source": []
  }
 ],
 "metadata": {
  "kernelspec": {
   "display_name": "Python 3.10.2 64-bit",
   "language": "python",
   "name": "python3"
  },
  "language_info": {
   "name": "python",
   "version": "3.10.2"
  },
  "orig_nbformat": 4,
  "vscode": {
   "interpreter": {
    "hash": "21290bbfaef809b5729f03c25a69946f1e8195a209b2e095987c269e3dfe79ea"
   }
  }
 },
 "nbformat": 4,
 "nbformat_minor": 2
}
