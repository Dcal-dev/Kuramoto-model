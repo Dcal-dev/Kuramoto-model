{
 "cells": [
  {
   "cell_type": "code",
   "execution_count": 1,
   "metadata": {},
   "outputs": [],
   "source": [
    "using Pkg\n",
    "using Plots, Random, Distributions\n",
    "using BenchmarkTools"
   ]
  },
  {
   "cell_type": "code",
   "execution_count": 2,
   "metadata": {},
   "outputs": [
    {
     "data": {
      "text/plain": [
       "Truncated(Cauchy{Float64}(μ=0.0, σ=1.0); lower=-3.141592653589793, upper=3.141592653589793)"
      ]
     },
     "execution_count": 2,
     "metadata": {},
     "output_type": "execute_result"
    }
   ],
   "source": [
    "d = Cauchy(0,1)\n",
    "u = truncated(d,-pi,pi)"
   ]
  },
  {
   "cell_type": "code",
   "execution_count": 3,
   "metadata": {},
   "outputs": [
    {
     "data": {
      "image/svg+xml": "<?xml version=\"1.0\" encoding=\"utf-8\"?>\n<svg xmlns=\"http://www.w3.org/2000/svg\" xmlns:xlink=\"http://www.w3.org/1999/xlink\" width=\"600\" height=\"400\" viewBox=\"0 0 2400 1600\">\n<defs>\n  <clipPath id=\"clip120\">\n    <rect x=\"0\" y=\"0\" width=\"2400\" height=\"1600\"/>\n  </clipPath>\n</defs>\n<path clip-path=\"url(#clip120)\" d=\"\nM0 1600 L2400 1600 L2400 0 L0 0  Z\n  \" fill=\"#ffffff\" fill-rule=\"evenodd\" fill-opacity=\"1\"/>\n<defs>\n  <clipPath id=\"clip121\">\n    <rect x=\"480\" y=\"0\" width=\"1681\" height=\"1600\"/>\n  </clipPath>\n</defs>\n<path clip-path=\"url(#clip120)\" d=\"\nM277.431 1486.45 L2352.76 1486.45 L2352.76 47.2441 L277.431 47.2441  Z\n  \" fill=\"#ffffff\" fill-rule=\"evenodd\" fill-opacity=\"1\"/>\n<defs>\n  <clipPath id=\"clip122\">\n    <rect x=\"277\" y=\"47\" width=\"2076\" height=\"1440\"/>\n  </clipPath>\n</defs>\n<polyline clip-path=\"url(#clip122)\" style=\"stroke:#000000; stroke-linecap:butt; stroke-linejoin:round; stroke-width:2; stroke-opacity:0.1; fill:none\" points=\"\n  449.297,1486.45 449.297,47.2441 \n  \"/>\n<polyline clip-path=\"url(#clip122)\" style=\"stroke:#000000; stroke-linecap:butt; stroke-linejoin:round; stroke-width:2; stroke-opacity:0.1; fill:none\" points=\"\n  737.896,1486.45 737.896,47.2441 \n  \"/>\n<polyline clip-path=\"url(#clip122)\" style=\"stroke:#000000; stroke-linecap:butt; stroke-linejoin:round; stroke-width:2; stroke-opacity:0.1; fill:none\" points=\"\n  1026.49,1486.45 1026.49,47.2441 \n  \"/>\n<polyline clip-path=\"url(#clip122)\" style=\"stroke:#000000; stroke-linecap:butt; stroke-linejoin:round; stroke-width:2; stroke-opacity:0.1; fill:none\" points=\"\n  1315.09,1486.45 1315.09,47.2441 \n  \"/>\n<polyline clip-path=\"url(#clip122)\" style=\"stroke:#000000; stroke-linecap:butt; stroke-linejoin:round; stroke-width:2; stroke-opacity:0.1; fill:none\" points=\"\n  1603.69,1486.45 1603.69,47.2441 \n  \"/>\n<polyline clip-path=\"url(#clip122)\" style=\"stroke:#000000; stroke-linecap:butt; stroke-linejoin:round; stroke-width:2; stroke-opacity:0.1; fill:none\" points=\"\n  1892.29,1486.45 1892.29,47.2441 \n  \"/>\n<polyline clip-path=\"url(#clip122)\" style=\"stroke:#000000; stroke-linecap:butt; stroke-linejoin:round; stroke-width:2; stroke-opacity:0.1; fill:none\" points=\"\n  2180.89,1486.45 2180.89,47.2441 \n  \"/>\n<polyline clip-path=\"url(#clip120)\" style=\"stroke:#000000; stroke-linecap:butt; stroke-linejoin:round; stroke-width:4; stroke-opacity:1; fill:none\" points=\"\n  277.431,1486.45 2352.76,1486.45 \n  \"/>\n<polyline clip-path=\"url(#clip120)\" style=\"stroke:#000000; stroke-linecap:butt; stroke-linejoin:round; stroke-width:4; stroke-opacity:1; fill:none\" points=\"\n  449.297,1486.45 449.297,1467.55 \n  \"/>\n<polyline clip-path=\"url(#clip120)\" style=\"stroke:#000000; stroke-linecap:butt; stroke-linejoin:round; stroke-width:4; stroke-opacity:1; fill:none\" points=\"\n  737.896,1486.45 737.896,1467.55 \n  \"/>\n<polyline clip-path=\"url(#clip120)\" style=\"stroke:#000000; stroke-linecap:butt; stroke-linejoin:round; stroke-width:4; stroke-opacity:1; fill:none\" points=\"\n  1026.49,1486.45 1026.49,1467.55 \n  \"/>\n<polyline clip-path=\"url(#clip120)\" style=\"stroke:#000000; stroke-linecap:butt; stroke-linejoin:round; stroke-width:4; stroke-opacity:1; fill:none\" points=\"\n  1315.09,1486.45 1315.09,1467.55 \n  \"/>\n<polyline clip-path=\"url(#clip120)\" style=\"stroke:#000000; stroke-linecap:butt; stroke-linejoin:round; stroke-width:4; stroke-opacity:1; fill:none\" points=\"\n  1603.69,1486.45 1603.69,1467.55 \n  \"/>\n<polyline clip-path=\"url(#clip120)\" style=\"stroke:#000000; stroke-linecap:butt; stroke-linejoin:round; stroke-width:4; stroke-opacity:1; fill:none\" points=\"\n  1892.29,1486.45 1892.29,1467.55 \n  \"/>\n<polyline clip-path=\"url(#clip120)\" style=\"stroke:#000000; stroke-linecap:butt; stroke-linejoin:round; stroke-width:4; stroke-opacity:1; fill:none\" points=\"\n  2180.89,1486.45 2180.89,1467.55 \n  \"/>\n<path clip-path=\"url(#clip120)\" d=\"M418.765 1532.02 L448.441 1532.02 L448.441 1535.95 L418.765 1535.95 L418.765 1532.02 Z\" fill=\"#000000\" fill-rule=\"evenodd\" fill-opacity=\"1\" /><path clip-path=\"url(#clip120)\" d=\"M472.7 1530.21 Q476.056 1530.93 477.931 1533.2 Q479.829 1535.47 479.829 1538.8 Q479.829 1543.92 476.311 1546.72 Q472.792 1549.52 466.311 1549.52 Q464.135 1549.52 461.82 1549.08 Q459.529 1548.66 457.075 1547.81 L457.075 1543.29 Q459.019 1544.43 461.334 1545.01 Q463.649 1545.58 466.172 1545.58 Q470.57 1545.58 472.862 1543.85 Q475.177 1542.11 475.177 1538.8 Q475.177 1535.75 473.024 1534.03 Q470.894 1532.3 467.075 1532.3 L463.047 1532.3 L463.047 1528.45 L467.26 1528.45 Q470.709 1528.45 472.538 1527.09 Q474.367 1525.7 474.367 1523.11 Q474.367 1520.45 472.468 1519.03 Q470.593 1517.6 467.075 1517.6 Q465.154 1517.6 462.955 1518.01 Q460.756 1518.43 458.117 1519.31 L458.117 1515.14 Q460.779 1514.4 463.093 1514.03 Q465.431 1513.66 467.492 1513.66 Q472.816 1513.66 475.917 1516.09 Q479.019 1518.5 479.019 1522.62 Q479.019 1525.49 477.376 1527.48 Q475.732 1529.45 472.7 1530.21 Z\" fill=\"#000000\" fill-rule=\"evenodd\" fill-opacity=\"1\" /><path clip-path=\"url(#clip120)\" d=\"M707.838 1532.02 L737.514 1532.02 L737.514 1535.95 L707.838 1535.95 L707.838 1532.02 Z\" fill=\"#000000\" fill-rule=\"evenodd\" fill-opacity=\"1\" /><path clip-path=\"url(#clip120)\" d=\"M751.634 1544.91 L767.954 1544.91 L767.954 1548.85 L746.009 1548.85 L746.009 1544.91 Q748.671 1542.16 753.255 1537.53 Q757.861 1532.88 759.042 1531.53 Q761.287 1529.01 762.167 1527.27 Q763.069 1525.51 763.069 1523.82 Q763.069 1521.07 761.125 1519.33 Q759.204 1517.6 756.102 1517.6 Q753.903 1517.6 751.449 1518.36 Q749.019 1519.13 746.241 1520.68 L746.241 1515.95 Q749.065 1514.82 751.519 1514.24 Q753.972 1513.66 756.009 1513.66 Q761.38 1513.66 764.574 1516.35 Q767.768 1519.03 767.768 1523.52 Q767.768 1525.65 766.958 1527.57 Q766.171 1529.47 764.065 1532.07 Q763.486 1532.74 760.384 1535.95 Q757.282 1539.15 751.634 1544.91 Z\" fill=\"#000000\" fill-rule=\"evenodd\" fill-opacity=\"1\" /><path clip-path=\"url(#clip120)\" d=\"M996.252 1532.02 L1025.93 1532.02 L1025.93 1535.95 L996.252 1535.95 L996.252 1532.02 Z\" fill=\"#000000\" fill-rule=\"evenodd\" fill-opacity=\"1\" /><path clip-path=\"url(#clip120)\" d=\"M1036.83 1544.91 L1044.47 1544.91 L1044.47 1518.55 L1036.16 1520.21 L1036.16 1515.95 L1044.42 1514.29 L1049.1 1514.29 L1049.1 1544.91 L1056.74 1544.91 L1056.74 1548.85 L1036.83 1548.85 L1036.83 1544.91 Z\" fill=\"#000000\" fill-rule=\"evenodd\" fill-opacity=\"1\" /><path clip-path=\"url(#clip120)\" d=\"M1315.09 1517.37 Q1311.48 1517.37 1309.65 1520.93 Q1307.85 1524.47 1307.85 1531.6 Q1307.85 1538.71 1309.65 1542.27 Q1311.48 1545.82 1315.09 1545.82 Q1318.73 1545.82 1320.53 1542.27 Q1322.36 1538.71 1322.36 1531.6 Q1322.36 1524.47 1320.53 1520.93 Q1318.73 1517.37 1315.09 1517.37 M1315.09 1513.66 Q1320.9 1513.66 1323.96 1518.27 Q1327.04 1522.85 1327.04 1531.6 Q1327.04 1540.33 1323.96 1544.94 Q1320.9 1549.52 1315.09 1549.52 Q1309.28 1549.52 1306.2 1544.94 Q1303.15 1540.33 1303.15 1531.6 Q1303.15 1522.85 1306.2 1518.27 Q1309.28 1513.66 1315.09 1513.66 Z\" fill=\"#000000\" fill-rule=\"evenodd\" fill-opacity=\"1\" /><path clip-path=\"url(#clip120)\" d=\"M1594.07 1544.91 L1601.71 1544.91 L1601.71 1518.55 L1593.4 1520.21 L1593.4 1515.95 L1601.67 1514.29 L1606.34 1514.29 L1606.34 1544.91 L1613.98 1544.91 L1613.98 1548.85 L1594.07 1548.85 L1594.07 1544.91 Z\" fill=\"#000000\" fill-rule=\"evenodd\" fill-opacity=\"1\" /><path clip-path=\"url(#clip120)\" d=\"M1886.94 1544.91 L1903.26 1544.91 L1903.26 1548.85 L1881.32 1548.85 L1881.32 1544.91 Q1883.98 1542.16 1888.56 1537.53 Q1893.17 1532.88 1894.35 1531.53 Q1896.6 1529.01 1897.48 1527.27 Q1898.38 1525.51 1898.38 1523.82 Q1898.38 1521.07 1896.43 1519.33 Q1894.51 1517.6 1891.41 1517.6 Q1889.21 1517.6 1886.76 1518.36 Q1884.33 1519.13 1881.55 1520.68 L1881.55 1515.95 Q1884.37 1514.82 1886.83 1514.24 Q1889.28 1513.66 1891.32 1513.66 Q1896.69 1513.66 1899.88 1516.35 Q1903.08 1519.03 1903.08 1523.52 Q1903.08 1525.65 1902.27 1527.57 Q1901.48 1529.47 1899.37 1532.07 Q1898.8 1532.74 1895.69 1535.95 Q1892.59 1539.15 1886.94 1544.91 Z\" fill=\"#000000\" fill-rule=\"evenodd\" fill-opacity=\"1\" /><path clip-path=\"url(#clip120)\" d=\"M2185.14 1530.21 Q2188.49 1530.93 2190.37 1533.2 Q2192.27 1535.47 2192.27 1538.8 Q2192.27 1543.92 2188.75 1546.72 Q2185.23 1549.52 2178.75 1549.52 Q2176.57 1549.52 2174.26 1549.08 Q2171.97 1548.66 2169.51 1547.81 L2169.51 1543.29 Q2171.46 1544.43 2173.77 1545.01 Q2176.09 1545.58 2178.61 1545.58 Q2183.01 1545.58 2185.3 1543.85 Q2187.61 1542.11 2187.61 1538.8 Q2187.61 1535.75 2185.46 1534.03 Q2183.33 1532.3 2179.51 1532.3 L2175.48 1532.3 L2175.48 1528.45 L2179.7 1528.45 Q2183.15 1528.45 2184.98 1527.09 Q2186.8 1525.7 2186.8 1523.11 Q2186.8 1520.45 2184.91 1519.03 Q2183.03 1517.6 2179.51 1517.6 Q2177.59 1517.6 2175.39 1518.01 Q2173.19 1518.43 2170.55 1519.31 L2170.55 1515.14 Q2173.22 1514.4 2175.53 1514.03 Q2177.87 1513.66 2179.93 1513.66 Q2185.25 1513.66 2188.35 1516.09 Q2191.46 1518.5 2191.46 1522.62 Q2191.46 1525.49 2189.81 1527.48 Q2188.17 1529.45 2185.14 1530.21 Z\" fill=\"#000000\" fill-rule=\"evenodd\" fill-opacity=\"1\" /><polyline clip-path=\"url(#clip122)\" style=\"stroke:#000000; stroke-linecap:butt; stroke-linejoin:round; stroke-width:2; stroke-opacity:0.1; fill:none\" points=\"\n  277.431,1445.72 2352.76,1445.72 \n  \"/>\n<polyline clip-path=\"url(#clip122)\" style=\"stroke:#000000; stroke-linecap:butt; stroke-linejoin:round; stroke-width:2; stroke-opacity:0.1; fill:none\" points=\"\n  277.431,1102.33 2352.76,1102.33 \n  \"/>\n<polyline clip-path=\"url(#clip122)\" style=\"stroke:#000000; stroke-linecap:butt; stroke-linejoin:round; stroke-width:2; stroke-opacity:0.1; fill:none\" points=\"\n  277.431,758.948 2352.76,758.948 \n  \"/>\n<polyline clip-path=\"url(#clip122)\" style=\"stroke:#000000; stroke-linecap:butt; stroke-linejoin:round; stroke-width:2; stroke-opacity:0.1; fill:none\" points=\"\n  277.431,415.564 2352.76,415.564 \n  \"/>\n<polyline clip-path=\"url(#clip122)\" style=\"stroke:#000000; stroke-linecap:butt; stroke-linejoin:round; stroke-width:2; stroke-opacity:0.1; fill:none\" points=\"\n  277.431,72.1806 2352.76,72.1806 \n  \"/>\n<polyline clip-path=\"url(#clip120)\" style=\"stroke:#000000; stroke-linecap:butt; stroke-linejoin:round; stroke-width:4; stroke-opacity:1; fill:none\" points=\"\n  277.431,1486.45 277.431,47.2441 \n  \"/>\n<polyline clip-path=\"url(#clip120)\" style=\"stroke:#000000; stroke-linecap:butt; stroke-linejoin:round; stroke-width:4; stroke-opacity:1; fill:none\" points=\"\n  277.431,1445.72 296.329,1445.72 \n  \"/>\n<polyline clip-path=\"url(#clip120)\" style=\"stroke:#000000; stroke-linecap:butt; stroke-linejoin:round; stroke-width:4; stroke-opacity:1; fill:none\" points=\"\n  277.431,1102.33 296.329,1102.33 \n  \"/>\n<polyline clip-path=\"url(#clip120)\" style=\"stroke:#000000; stroke-linecap:butt; stroke-linejoin:round; stroke-width:4; stroke-opacity:1; fill:none\" points=\"\n  277.431,758.948 296.329,758.948 \n  \"/>\n<polyline clip-path=\"url(#clip120)\" style=\"stroke:#000000; stroke-linecap:butt; stroke-linejoin:round; stroke-width:4; stroke-opacity:1; fill:none\" points=\"\n  277.431,415.564 296.329,415.564 \n  \"/>\n<polyline clip-path=\"url(#clip120)\" style=\"stroke:#000000; stroke-linecap:butt; stroke-linejoin:round; stroke-width:4; stroke-opacity:1; fill:none\" points=\"\n  277.431,72.1806 296.329,72.1806 \n  \"/>\n<path clip-path=\"url(#clip120)\" d=\"M229.487 1431.51 Q225.875 1431.51 224.047 1435.08 Q222.241 1438.62 222.241 1445.75 Q222.241 1452.86 224.047 1456.42 Q225.875 1459.96 229.487 1459.96 Q233.121 1459.96 234.926 1456.42 Q236.755 1452.86 236.755 1445.75 Q236.755 1438.62 234.926 1435.08 Q233.121 1431.51 229.487 1431.51 M229.487 1427.81 Q235.297 1427.81 238.352 1432.42 Q241.431 1437 241.431 1445.75 Q241.431 1454.48 238.352 1459.08 Q235.297 1463.67 229.487 1463.67 Q223.676 1463.67 220.598 1459.08 Q217.542 1454.48 217.542 1445.75 Q217.542 1437 220.598 1432.42 Q223.676 1427.81 229.487 1427.81 Z\" fill=\"#000000\" fill-rule=\"evenodd\" fill-opacity=\"1\" /><path clip-path=\"url(#clip120)\" d=\"M54.5569 1122.12 L62.1958 1122.12 L62.1958 1095.76 L53.8856 1097.43 L53.8856 1093.17 L62.1495 1091.5 L66.8254 1091.5 L66.8254 1122.12 L74.4642 1122.12 L74.4642 1126.06 L54.5569 1126.06 L54.5569 1122.12 Z\" fill=\"#000000\" fill-rule=\"evenodd\" fill-opacity=\"1\" /><path clip-path=\"url(#clip120)\" d=\"M83.9086 1120.18 L88.7928 1120.18 L88.7928 1126.06 L83.9086 1126.06 L83.9086 1120.18 Z\" fill=\"#000000\" fill-rule=\"evenodd\" fill-opacity=\"1\" /><path clip-path=\"url(#clip120)\" d=\"M108.978 1094.58 Q105.367 1094.58 103.538 1098.14 Q101.733 1101.68 101.733 1108.81 Q101.733 1115.92 103.538 1119.49 Q105.367 1123.03 108.978 1123.03 Q112.612 1123.03 114.418 1119.49 Q116.246 1115.92 116.246 1108.81 Q116.246 1101.68 114.418 1098.14 Q112.612 1094.58 108.978 1094.58 M108.978 1090.87 Q114.788 1090.87 117.844 1095.48 Q120.922 1100.06 120.922 1108.81 Q120.922 1117.54 117.844 1122.15 Q114.788 1126.73 108.978 1126.73 Q103.168 1126.73 100.089 1122.15 Q97.0335 1117.54 97.0335 1108.81 Q97.0335 1100.06 100.089 1095.48 Q103.168 1090.87 108.978 1090.87 Z\" fill=\"#000000\" fill-rule=\"evenodd\" fill-opacity=\"1\" /><path clip-path=\"url(#clip120)\" d=\"M157.311 1100.6 L146.732 1111.22 L157.311 1121.8 L154.556 1124.6 L143.931 1113.98 L133.306 1124.6 L130.575 1121.8 L141.131 1111.22 L130.575 1100.6 L133.306 1097.8 L143.931 1108.42 L154.556 1097.8 L157.311 1100.6 Z\" fill=\"#000000\" fill-rule=\"evenodd\" fill-opacity=\"1\" /><path clip-path=\"url(#clip120)\" d=\"M169.672 1122.12 L177.311 1122.12 L177.311 1095.76 L169.001 1097.43 L169.001 1093.17 L177.265 1091.5 L181.94 1091.5 L181.94 1122.12 L189.579 1122.12 L189.579 1126.06 L169.672 1126.06 L169.672 1122.12 Z\" fill=\"#000000\" fill-rule=\"evenodd\" fill-opacity=\"1\" /><path clip-path=\"url(#clip120)\" d=\"M209.024 1094.58 Q205.413 1094.58 203.584 1098.14 Q201.778 1101.68 201.778 1108.81 Q201.778 1115.92 203.584 1119.49 Q205.413 1123.03 209.024 1123.03 Q212.658 1123.03 214.463 1119.49 Q216.292 1115.92 216.292 1108.81 Q216.292 1101.68 214.463 1098.14 Q212.658 1094.58 209.024 1094.58 M209.024 1090.87 Q214.834 1090.87 217.889 1095.48 Q220.968 1100.06 220.968 1108.81 Q220.968 1117.54 217.889 1122.15 Q214.834 1126.73 209.024 1126.73 Q203.214 1126.73 200.135 1122.15 Q197.079 1117.54 197.079 1108.81 Q197.079 1100.06 200.135 1095.48 Q203.214 1090.87 209.024 1090.87 Z\" fill=\"#000000\" fill-rule=\"evenodd\" fill-opacity=\"1\" /><path clip-path=\"url(#clip120)\" d=\"M233.645 1073.88 L224.053 1088.87 L233.645 1088.87 L233.645 1073.88 M232.648 1070.57 L237.425 1070.57 L237.425 1088.87 L241.431 1088.87 L241.431 1092.03 L237.425 1092.03 L237.425 1098.65 L233.645 1098.65 L233.645 1092.03 L220.968 1092.03 L220.968 1088.36 L232.648 1070.57 Z\" fill=\"#000000\" fill-rule=\"evenodd\" fill-opacity=\"1\" /><path clip-path=\"url(#clip120)\" d=\"M57.7745 778.741 L74.0939 778.741 L74.0939 782.676 L52.1495 782.676 L52.1495 778.741 Q54.8115 775.986 59.3949 771.356 Q64.0013 766.704 65.1819 765.361 Q67.4272 762.838 68.3068 761.102 Q69.2096 759.343 69.2096 757.653 Q69.2096 754.898 67.2652 753.162 Q65.3439 751.426 62.2421 751.426 Q60.043 751.426 57.5893 752.19 Q55.1588 752.954 52.381 754.505 L52.381 749.782 Q55.2051 748.648 57.6588 748.069 Q60.1124 747.491 62.1495 747.491 Q67.5198 747.491 70.7142 750.176 Q73.9087 752.861 73.9087 757.352 Q73.9087 759.481 73.0985 761.403 Q72.3115 763.301 70.205 765.893 Q69.6263 766.565 66.5245 769.782 Q63.4226 772.977 57.7745 778.741 Z\" fill=\"#000000\" fill-rule=\"evenodd\" fill-opacity=\"1\" /><path clip-path=\"url(#clip120)\" d=\"M83.9086 776.796 L88.7928 776.796 L88.7928 782.676 L83.9086 782.676 L83.9086 776.796 Z\" fill=\"#000000\" fill-rule=\"evenodd\" fill-opacity=\"1\" /><path clip-path=\"url(#clip120)\" d=\"M108.978 751.194 Q105.367 751.194 103.538 754.759 Q101.733 758.301 101.733 765.43 Q101.733 772.537 103.538 776.102 Q105.367 779.643 108.978 779.643 Q112.612 779.643 114.418 776.102 Q116.246 772.537 116.246 765.43 Q116.246 758.301 114.418 754.759 Q112.612 751.194 108.978 751.194 M108.978 747.491 Q114.788 747.491 117.844 752.097 Q120.922 756.681 120.922 765.43 Q120.922 774.157 117.844 778.764 Q114.788 783.347 108.978 783.347 Q103.168 783.347 100.089 778.764 Q97.0335 774.157 97.0335 765.43 Q97.0335 756.681 100.089 752.097 Q103.168 747.491 108.978 747.491 Z\" fill=\"#000000\" fill-rule=\"evenodd\" fill-opacity=\"1\" /><path clip-path=\"url(#clip120)\" d=\"M157.311 757.213 L146.732 767.838 L157.311 778.417 L154.556 781.217 L143.931 770.592 L133.306 781.217 L130.575 778.417 L141.131 767.838 L130.575 757.213 L133.306 754.412 L143.931 765.037 L154.556 754.412 L157.311 757.213 Z\" fill=\"#000000\" fill-rule=\"evenodd\" fill-opacity=\"1\" /><path clip-path=\"url(#clip120)\" d=\"M169.672 778.741 L177.311 778.741 L177.311 752.375 L169.001 754.042 L169.001 749.782 L177.265 748.116 L181.94 748.116 L181.94 778.741 L189.579 778.741 L189.579 782.676 L169.672 782.676 L169.672 778.741 Z\" fill=\"#000000\" fill-rule=\"evenodd\" fill-opacity=\"1\" /><path clip-path=\"url(#clip120)\" d=\"M209.024 751.194 Q205.413 751.194 203.584 754.759 Q201.778 758.301 201.778 765.43 Q201.778 772.537 203.584 776.102 Q205.413 779.643 209.024 779.643 Q212.658 779.643 214.463 776.102 Q216.292 772.537 216.292 765.43 Q216.292 758.301 214.463 754.759 Q212.658 751.194 209.024 751.194 M209.024 747.491 Q214.834 747.491 217.889 752.097 Q220.968 756.681 220.968 765.43 Q220.968 774.157 217.889 778.764 Q214.834 783.347 209.024 783.347 Q203.214 783.347 200.135 778.764 Q197.079 774.157 197.079 765.43 Q197.079 756.681 200.135 752.097 Q203.214 747.491 209.024 747.491 Z\" fill=\"#000000\" fill-rule=\"evenodd\" fill-opacity=\"1\" /><path clip-path=\"url(#clip120)\" d=\"M233.645 730.496 L224.053 745.485 L233.645 745.485 L233.645 730.496 M232.648 727.185 L237.425 727.185 L237.425 745.485 L241.431 745.485 L241.431 748.645 L237.425 748.645 L237.425 755.265 L233.645 755.265 L233.645 748.645 L220.968 748.645 L220.968 744.978 L232.648 727.185 Z\" fill=\"#000000\" fill-rule=\"evenodd\" fill-opacity=\"1\" /><path clip-path=\"url(#clip120)\" d=\"M67.9133 420.658 Q71.2698 421.375 73.1448 423.644 Q75.0429 425.912 75.0429 429.246 Q75.0429 434.361 71.5244 437.162 Q68.0059 439.963 61.5245 439.963 Q59.3486 439.963 57.0338 439.523 Q54.7421 439.107 52.2884 438.25 L52.2884 433.736 Q54.2328 434.871 56.5477 435.449 Q58.8625 436.028 61.3856 436.028 Q65.7837 436.028 68.0754 434.292 Q70.3902 432.556 70.3902 429.246 Q70.3902 426.19 68.2374 424.477 Q66.1078 422.741 62.2884 422.741 L58.2606 422.741 L58.2606 418.899 L62.4735 418.899 Q65.9226 418.899 67.7513 417.533 Q69.58 416.144 69.58 413.551 Q69.58 410.889 67.6819 409.477 Q65.8069 408.042 62.2884 408.042 Q60.3671 408.042 58.168 408.459 Q55.969 408.875 53.3301 409.755 L53.3301 405.588 Q55.9921 404.848 58.3069 404.477 Q60.6449 404.107 62.705 404.107 Q68.0291 404.107 71.1309 406.538 Q74.2327 408.945 74.2327 413.065 Q74.2327 415.936 72.5892 417.926 Q70.9457 419.894 67.9133 420.658 Z\" fill=\"#000000\" fill-rule=\"evenodd\" fill-opacity=\"1\" /><path clip-path=\"url(#clip120)\" d=\"M83.9086 433.412 L88.7928 433.412 L88.7928 439.292 L83.9086 439.292 L83.9086 433.412 Z\" fill=\"#000000\" fill-rule=\"evenodd\" fill-opacity=\"1\" /><path clip-path=\"url(#clip120)\" d=\"M108.978 407.811 Q105.367 407.811 103.538 411.375 Q101.733 414.917 101.733 422.047 Q101.733 429.153 103.538 432.718 Q105.367 436.26 108.978 436.26 Q112.612 436.26 114.418 432.718 Q116.246 429.153 116.246 422.047 Q116.246 414.917 114.418 411.375 Q112.612 407.811 108.978 407.811 M108.978 404.107 Q114.788 404.107 117.844 408.713 Q120.922 413.297 120.922 422.047 Q120.922 430.774 117.844 435.38 Q114.788 439.963 108.978 439.963 Q103.168 439.963 100.089 435.38 Q97.0335 430.774 97.0335 422.047 Q97.0335 413.297 100.089 408.713 Q103.168 404.107 108.978 404.107 Z\" fill=\"#000000\" fill-rule=\"evenodd\" fill-opacity=\"1\" /><path clip-path=\"url(#clip120)\" d=\"M157.311 413.829 L146.732 424.454 L157.311 435.033 L154.556 437.834 L143.931 427.209 L133.306 437.834 L130.575 435.033 L141.131 424.454 L130.575 413.829 L133.306 411.028 L143.931 421.653 L154.556 411.028 L157.311 413.829 Z\" fill=\"#000000\" fill-rule=\"evenodd\" fill-opacity=\"1\" /><path clip-path=\"url(#clip120)\" d=\"M169.672 435.357 L177.311 435.357 L177.311 408.991 L169.001 410.658 L169.001 406.399 L177.265 404.732 L181.94 404.732 L181.94 435.357 L189.579 435.357 L189.579 439.292 L169.672 439.292 L169.672 435.357 Z\" fill=\"#000000\" fill-rule=\"evenodd\" fill-opacity=\"1\" /><path clip-path=\"url(#clip120)\" d=\"M209.024 407.811 Q205.413 407.811 203.584 411.375 Q201.778 414.917 201.778 422.047 Q201.778 429.153 203.584 432.718 Q205.413 436.26 209.024 436.26 Q212.658 436.26 214.463 432.718 Q216.292 429.153 216.292 422.047 Q216.292 414.917 214.463 411.375 Q212.658 407.811 209.024 407.811 M209.024 404.107 Q214.834 404.107 217.889 408.713 Q220.968 413.297 220.968 422.047 Q220.968 430.774 217.889 435.38 Q214.834 439.963 209.024 439.963 Q203.214 439.963 200.135 435.38 Q197.079 430.774 197.079 422.047 Q197.079 413.297 200.135 408.713 Q203.214 404.107 209.024 404.107 Z\" fill=\"#000000\" fill-rule=\"evenodd\" fill-opacity=\"1\" /><path clip-path=\"url(#clip120)\" d=\"M233.645 387.112 L224.053 402.102 L233.645 402.102 L233.645 387.112 M232.648 383.802 L237.425 383.802 L237.425 402.102 L241.431 402.102 L241.431 405.261 L237.425 405.261 L237.425 411.882 L233.645 411.882 L233.645 405.261 L220.968 405.261 L220.968 401.594 L232.648 383.802 Z\" fill=\"#000000\" fill-rule=\"evenodd\" fill-opacity=\"1\" /><path clip-path=\"url(#clip120)\" d=\"M66.5939 65.4223 L54.7884 83.8713 L66.5939 83.8713 L66.5939 65.4223 M65.367 61.3482 L71.2466 61.3482 L71.2466 83.8713 L76.1772 83.8713 L76.1772 87.7601 L71.2466 87.7601 L71.2466 95.9082 L66.5939 95.9082 L66.5939 87.7601 L50.9921 87.7601 L50.9921 83.2463 L65.367 61.3482 Z\" fill=\"#000000\" fill-rule=\"evenodd\" fill-opacity=\"1\" /><path clip-path=\"url(#clip120)\" d=\"M83.9086 90.0286 L88.7928 90.0286 L88.7928 95.9082 L83.9086 95.9082 L83.9086 90.0286 Z\" fill=\"#000000\" fill-rule=\"evenodd\" fill-opacity=\"1\" /><path clip-path=\"url(#clip120)\" d=\"M108.978 64.4269 Q105.367 64.4269 103.538 67.9917 Q101.733 71.5334 101.733 78.6629 Q101.733 85.7694 103.538 89.3342 Q105.367 92.8758 108.978 92.8758 Q112.612 92.8758 114.418 89.3342 Q116.246 85.7694 116.246 78.6629 Q116.246 71.5334 114.418 67.9917 Q112.612 64.4269 108.978 64.4269 M108.978 60.7232 Q114.788 60.7232 117.844 65.3297 Q120.922 69.913 120.922 78.6629 Q120.922 87.3898 117.844 91.9962 Q114.788 96.5795 108.978 96.5795 Q103.168 96.5795 100.089 91.9962 Q97.0335 87.3898 97.0335 78.6629 Q97.0335 69.913 100.089 65.3297 Q103.168 60.7232 108.978 60.7232 Z\" fill=\"#000000\" fill-rule=\"evenodd\" fill-opacity=\"1\" /><path clip-path=\"url(#clip120)\" d=\"M157.311 70.4454 L146.732 81.0703 L157.311 91.649 L154.556 94.4499 L143.931 83.825 L133.306 94.4499 L130.575 91.649 L141.131 81.0703 L130.575 70.4454 L133.306 67.6445 L143.931 78.2694 L154.556 67.6445 L157.311 70.4454 Z\" fill=\"#000000\" fill-rule=\"evenodd\" fill-opacity=\"1\" /><path clip-path=\"url(#clip120)\" d=\"M169.672 91.9731 L177.311 91.9731 L177.311 65.6075 L169.001 67.2741 L169.001 63.0149 L177.265 61.3482 L181.94 61.3482 L181.94 91.9731 L189.579 91.9731 L189.579 95.9082 L169.672 95.9082 L169.672 91.9731 Z\" fill=\"#000000\" fill-rule=\"evenodd\" fill-opacity=\"1\" /><path clip-path=\"url(#clip120)\" d=\"M209.024 64.4269 Q205.413 64.4269 203.584 67.9917 Q201.778 71.5334 201.778 78.6629 Q201.778 85.7694 203.584 89.3342 Q205.413 92.8758 209.024 92.8758 Q212.658 92.8758 214.463 89.3342 Q216.292 85.7694 216.292 78.6629 Q216.292 71.5334 214.463 67.9917 Q212.658 64.4269 209.024 64.4269 M209.024 60.7232 Q214.834 60.7232 217.889 65.3297 Q220.968 69.913 220.968 78.6629 Q220.968 87.3898 217.889 91.9962 Q214.834 96.5795 209.024 96.5795 Q203.214 96.5795 200.135 91.9962 Q197.079 87.3898 197.079 78.6629 Q197.079 69.913 200.135 65.3297 Q203.214 60.7232 209.024 60.7232 Z\" fill=\"#000000\" fill-rule=\"evenodd\" fill-opacity=\"1\" /><path clip-path=\"url(#clip120)\" d=\"M233.645 43.728 L224.053 58.7178 L233.645 58.7178 L233.645 43.728 M232.648 40.4178 L237.425 40.4178 L237.425 58.7178 L241.431 58.7178 L241.431 61.8775 L237.425 61.8775 L237.425 68.4978 L233.645 68.4978 L233.645 61.8775 L220.968 61.8775 L220.968 58.21 L232.648 40.4178 Z\" fill=\"#000000\" fill-rule=\"evenodd\" fill-opacity=\"1\" /><path clip-path=\"url(#clip122)\" d=\"\nM391.577 1393.38 L391.577 1445.72 L420.437 1445.72 L420.437 1393.38 L391.577 1393.38 L391.577 1393.38  Z\n  \" fill=\"#009af9\" fill-rule=\"evenodd\" fill-opacity=\"1\"/>\n<polyline clip-path=\"url(#clip122)\" style=\"stroke:#000000; stroke-linecap:butt; stroke-linejoin:round; stroke-width:4; stroke-opacity:1; fill:none\" points=\"\n  391.577,1393.38 391.577,1445.72 420.437,1445.72 420.437,1393.38 391.577,1393.38 \n  \"/>\n<path clip-path=\"url(#clip122)\" d=\"\nM420.437 1310.9 L420.437 1445.72 L449.297 1445.72 L449.297 1310.9 L420.437 1310.9 L420.437 1310.9  Z\n  \" fill=\"#009af9\" fill-rule=\"evenodd\" fill-opacity=\"1\"/>\n<polyline clip-path=\"url(#clip122)\" style=\"stroke:#000000; stroke-linecap:butt; stroke-linejoin:round; stroke-width:4; stroke-opacity:1; fill:none\" points=\"\n  420.437,1310.9 420.437,1445.72 449.297,1445.72 449.297,1310.9 420.437,1310.9 \n  \"/>\n<path clip-path=\"url(#clip122)\" d=\"\nM449.297 1305.17 L449.297 1445.72 L478.157 1445.72 L478.157 1305.17 L449.297 1305.17 L449.297 1305.17  Z\n  \" fill=\"#009af9\" fill-rule=\"evenodd\" fill-opacity=\"1\"/>\n<polyline clip-path=\"url(#clip122)\" style=\"stroke:#000000; stroke-linecap:butt; stroke-linejoin:round; stroke-width:4; stroke-opacity:1; fill:none\" points=\"\n  449.297,1305.17 449.297,1445.72 478.157,1445.72 478.157,1305.17 449.297,1305.17 \n  \"/>\n<path clip-path=\"url(#clip122)\" d=\"\nM478.157 1299.57 L478.157 1445.72 L507.017 1445.72 L507.017 1299.57 L478.157 1299.57 L478.157 1299.57  Z\n  \" fill=\"#009af9\" fill-rule=\"evenodd\" fill-opacity=\"1\"/>\n<polyline clip-path=\"url(#clip122)\" style=\"stroke:#000000; stroke-linecap:butt; stroke-linejoin:round; stroke-width:4; stroke-opacity:1; fill:none\" points=\"\n  478.157,1299.57 478.157,1445.72 507.017,1445.72 507.017,1299.57 478.157,1299.57 \n  \"/>\n<path clip-path=\"url(#clip122)\" d=\"\nM507.017 1286.9 L507.017 1445.72 L535.877 1445.72 L535.877 1286.9 L507.017 1286.9 L507.017 1286.9  Z\n  \" fill=\"#009af9\" fill-rule=\"evenodd\" fill-opacity=\"1\"/>\n<polyline clip-path=\"url(#clip122)\" style=\"stroke:#000000; stroke-linecap:butt; stroke-linejoin:round; stroke-width:4; stroke-opacity:1; fill:none\" points=\"\n  507.017,1286.9 507.017,1445.72 535.877,1445.72 535.877,1286.9 507.017,1286.9 \n  \"/>\n<path clip-path=\"url(#clip122)\" d=\"\nM535.877 1271.69 L535.877 1445.72 L564.737 1445.72 L564.737 1271.69 L535.877 1271.69 L535.877 1271.69  Z\n  \" fill=\"#009af9\" fill-rule=\"evenodd\" fill-opacity=\"1\"/>\n<polyline clip-path=\"url(#clip122)\" style=\"stroke:#000000; stroke-linecap:butt; stroke-linejoin:round; stroke-width:4; stroke-opacity:1; fill:none\" points=\"\n  535.877,1271.69 535.877,1445.72 564.737,1445.72 564.737,1271.69 535.877,1271.69 \n  \"/>\n<path clip-path=\"url(#clip122)\" d=\"\nM564.737 1263.28 L564.737 1445.72 L593.597 1445.72 L593.597 1263.28 L564.737 1263.28 L564.737 1263.28  Z\n  \" fill=\"#009af9\" fill-rule=\"evenodd\" fill-opacity=\"1\"/>\n<polyline clip-path=\"url(#clip122)\" style=\"stroke:#000000; stroke-linecap:butt; stroke-linejoin:round; stroke-width:4; stroke-opacity:1; fill:none\" points=\"\n  564.737,1263.28 564.737,1445.72 593.597,1445.72 593.597,1263.28 564.737,1263.28 \n  \"/>\n<path clip-path=\"url(#clip122)\" d=\"\nM593.597 1251.91 L593.597 1445.72 L622.456 1445.72 L622.456 1251.91 L593.597 1251.91 L593.597 1251.91  Z\n  \" fill=\"#009af9\" fill-rule=\"evenodd\" fill-opacity=\"1\"/>\n<polyline clip-path=\"url(#clip122)\" style=\"stroke:#000000; stroke-linecap:butt; stroke-linejoin:round; stroke-width:4; stroke-opacity:1; fill:none\" points=\"\n  593.597,1251.91 593.597,1445.72 622.456,1445.72 622.456,1251.91 593.597,1251.91 \n  \"/>\n<path clip-path=\"url(#clip122)\" d=\"\nM622.456 1234.74 L622.456 1445.72 L651.316 1445.72 L651.316 1234.74 L622.456 1234.74 L622.456 1234.74  Z\n  \" fill=\"#009af9\" fill-rule=\"evenodd\" fill-opacity=\"1\"/>\n<polyline clip-path=\"url(#clip122)\" style=\"stroke:#000000; stroke-linecap:butt; stroke-linejoin:round; stroke-width:4; stroke-opacity:1; fill:none\" points=\"\n  622.456,1234.74 622.456,1445.72 651.316,1445.72 651.316,1234.74 622.456,1234.74 \n  \"/>\n<path clip-path=\"url(#clip122)\" d=\"\nM651.316 1217.67 L651.316 1445.72 L680.176 1445.72 L680.176 1217.67 L651.316 1217.67 L651.316 1217.67  Z\n  \" fill=\"#009af9\" fill-rule=\"evenodd\" fill-opacity=\"1\"/>\n<polyline clip-path=\"url(#clip122)\" style=\"stroke:#000000; stroke-linecap:butt; stroke-linejoin:round; stroke-width:4; stroke-opacity:1; fill:none\" points=\"\n  651.316,1217.67 651.316,1445.72 680.176,1445.72 680.176,1217.67 651.316,1217.67 \n  \"/>\n<path clip-path=\"url(#clip122)\" d=\"\nM680.176 1204.42 L680.176 1445.72 L709.036 1445.72 L709.036 1204.42 L680.176 1204.42 L680.176 1204.42  Z\n  \" fill=\"#009af9\" fill-rule=\"evenodd\" fill-opacity=\"1\"/>\n<polyline clip-path=\"url(#clip122)\" style=\"stroke:#000000; stroke-linecap:butt; stroke-linejoin:round; stroke-width:4; stroke-opacity:1; fill:none\" points=\"\n  680.176,1204.42 680.176,1445.72 709.036,1445.72 709.036,1204.42 680.176,1204.42 \n  \"/>\n<path clip-path=\"url(#clip122)\" d=\"\nM709.036 1185.4 L709.036 1445.72 L737.896 1445.72 L737.896 1185.4 L709.036 1185.4 L709.036 1185.4  Z\n  \" fill=\"#009af9\" fill-rule=\"evenodd\" fill-opacity=\"1\"/>\n<polyline clip-path=\"url(#clip122)\" style=\"stroke:#000000; stroke-linecap:butt; stroke-linejoin:round; stroke-width:4; stroke-opacity:1; fill:none\" points=\"\n  709.036,1185.4 709.036,1445.72 737.896,1445.72 737.896,1185.4 709.036,1185.4 \n  \"/>\n<path clip-path=\"url(#clip122)\" d=\"\nM737.896 1160.02 L737.896 1445.72 L766.756 1445.72 L766.756 1160.02 L737.896 1160.02 L737.896 1160.02  Z\n  \" fill=\"#009af9\" fill-rule=\"evenodd\" fill-opacity=\"1\"/>\n<polyline clip-path=\"url(#clip122)\" style=\"stroke:#000000; stroke-linecap:butt; stroke-linejoin:round; stroke-width:4; stroke-opacity:1; fill:none\" points=\"\n  737.896,1160.02 737.896,1445.72 766.756,1445.72 766.756,1160.02 737.896,1160.02 \n  \"/>\n<path clip-path=\"url(#clip122)\" d=\"\nM766.756 1136.67 L766.756 1445.72 L795.616 1445.72 L795.616 1136.67 L766.756 1136.67 L766.756 1136.67  Z\n  \" fill=\"#009af9\" fill-rule=\"evenodd\" fill-opacity=\"1\"/>\n<polyline clip-path=\"url(#clip122)\" style=\"stroke:#000000; stroke-linecap:butt; stroke-linejoin:round; stroke-width:4; stroke-opacity:1; fill:none\" points=\"\n  766.756,1136.67 766.756,1445.72 795.616,1445.72 795.616,1136.67 766.756,1136.67 \n  \"/>\n<path clip-path=\"url(#clip122)\" d=\"\nM795.616 1113.66 L795.616 1445.72 L824.476 1445.72 L824.476 1113.66 L795.616 1113.66 L795.616 1113.66  Z\n  \" fill=\"#009af9\" fill-rule=\"evenodd\" fill-opacity=\"1\"/>\n<polyline clip-path=\"url(#clip122)\" style=\"stroke:#000000; stroke-linecap:butt; stroke-linejoin:round; stroke-width:4; stroke-opacity:1; fill:none\" points=\"\n  795.616,1113.66 795.616,1445.72 824.476,1445.72 824.476,1113.66 795.616,1113.66 \n  \"/>\n<path clip-path=\"url(#clip122)\" d=\"\nM824.476 1081.01 L824.476 1445.72 L853.335 1445.72 L853.335 1081.01 L824.476 1081.01 L824.476 1081.01  Z\n  \" fill=\"#009af9\" fill-rule=\"evenodd\" fill-opacity=\"1\"/>\n<polyline clip-path=\"url(#clip122)\" style=\"stroke:#000000; stroke-linecap:butt; stroke-linejoin:round; stroke-width:4; stroke-opacity:1; fill:none\" points=\"\n  824.476,1081.01 824.476,1445.72 853.335,1445.72 853.335,1081.01 824.476,1081.01 \n  \"/>\n<path clip-path=\"url(#clip122)\" d=\"\nM853.335 1044.75 L853.335 1445.72 L882.195 1445.72 L882.195 1044.75 L853.335 1044.75 L853.335 1044.75  Z\n  \" fill=\"#009af9\" fill-rule=\"evenodd\" fill-opacity=\"1\"/>\n<polyline clip-path=\"url(#clip122)\" style=\"stroke:#000000; stroke-linecap:butt; stroke-linejoin:round; stroke-width:4; stroke-opacity:1; fill:none\" points=\"\n  853.335,1044.75 853.335,1445.72 882.195,1445.72 882.195,1044.75 853.335,1044.75 \n  \"/>\n<path clip-path=\"url(#clip122)\" d=\"\nM882.195 1009.55 L882.195 1445.72 L911.055 1445.72 L911.055 1009.55 L882.195 1009.55 L882.195 1009.55  Z\n  \" fill=\"#009af9\" fill-rule=\"evenodd\" fill-opacity=\"1\"/>\n<polyline clip-path=\"url(#clip122)\" style=\"stroke:#000000; stroke-linecap:butt; stroke-linejoin:round; stroke-width:4; stroke-opacity:1; fill:none\" points=\"\n  882.195,1009.55 882.195,1445.72 911.055,1445.72 911.055,1009.55 882.195,1009.55 \n  \"/>\n<path clip-path=\"url(#clip122)\" d=\"\nM911.055 961.991 L911.055 1445.72 L939.915 1445.72 L939.915 961.991 L911.055 961.991 L911.055 961.991  Z\n  \" fill=\"#009af9\" fill-rule=\"evenodd\" fill-opacity=\"1\"/>\n<polyline clip-path=\"url(#clip122)\" style=\"stroke:#000000; stroke-linecap:butt; stroke-linejoin:round; stroke-width:4; stroke-opacity:1; fill:none\" points=\"\n  911.055,961.991 911.055,1445.72 939.915,1445.72 939.915,961.991 911.055,961.991 \n  \"/>\n<path clip-path=\"url(#clip122)\" d=\"\nM939.915 919.72 L939.915 1445.72 L968.775 1445.72 L968.775 919.72 L939.915 919.72 L939.915 919.72  Z\n  \" fill=\"#009af9\" fill-rule=\"evenodd\" fill-opacity=\"1\"/>\n<polyline clip-path=\"url(#clip122)\" style=\"stroke:#000000; stroke-linecap:butt; stroke-linejoin:round; stroke-width:4; stroke-opacity:1; fill:none\" points=\"\n  939.915,919.72 939.915,1445.72 968.775,1445.72 968.775,919.72 939.915,919.72 \n  \"/>\n<path clip-path=\"url(#clip122)\" d=\"\nM968.775 859.525 L968.775 1445.72 L997.635 1445.72 L997.635 859.525 L968.775 859.525 L968.775 859.525  Z\n  \" fill=\"#009af9\" fill-rule=\"evenodd\" fill-opacity=\"1\"/>\n<polyline clip-path=\"url(#clip122)\" style=\"stroke:#000000; stroke-linecap:butt; stroke-linejoin:round; stroke-width:4; stroke-opacity:1; fill:none\" points=\"\n  968.775,859.525 968.775,1445.72 997.635,1445.72 997.635,859.525 968.775,859.525 \n  \"/>\n<path clip-path=\"url(#clip122)\" d=\"\nM997.635 793.081 L997.635 1445.72 L1026.49 1445.72 L1026.49 793.081 L997.635 793.081 L997.635 793.081  Z\n  \" fill=\"#009af9\" fill-rule=\"evenodd\" fill-opacity=\"1\"/>\n<polyline clip-path=\"url(#clip122)\" style=\"stroke:#000000; stroke-linecap:butt; stroke-linejoin:round; stroke-width:4; stroke-opacity:1; fill:none\" points=\"\n  997.635,793.081 997.635,1445.72 1026.49,1445.72 1026.49,793.081 997.635,793.081 \n  \"/>\n<path clip-path=\"url(#clip122)\" d=\"\nM1026.49 738.242 L1026.49 1445.72 L1055.35 1445.72 L1055.35 738.242 L1026.49 738.242 L1026.49 738.242  Z\n  \" fill=\"#009af9\" fill-rule=\"evenodd\" fill-opacity=\"1\"/>\n<polyline clip-path=\"url(#clip122)\" style=\"stroke:#000000; stroke-linecap:butt; stroke-linejoin:round; stroke-width:4; stroke-opacity:1; fill:none\" points=\"\n  1026.49,738.242 1026.49,1445.72 1055.35,1445.72 1055.35,738.242 1026.49,738.242 \n  \"/>\n<path clip-path=\"url(#clip122)\" d=\"\nM1055.35 654.01 L1055.35 1445.72 L1084.21 1445.72 L1084.21 654.01 L1055.35 654.01 L1055.35 654.01  Z\n  \" fill=\"#009af9\" fill-rule=\"evenodd\" fill-opacity=\"1\"/>\n<polyline clip-path=\"url(#clip122)\" style=\"stroke:#000000; stroke-linecap:butt; stroke-linejoin:round; stroke-width:4; stroke-opacity:1; fill:none\" points=\"\n  1055.35,654.01 1055.35,1445.72 1084.21,1445.72 1084.21,654.01 1055.35,654.01 \n  \"/>\n<path clip-path=\"url(#clip122)\" d=\"\nM1084.21 576.062 L1084.21 1445.72 L1113.07 1445.72 L1113.07 576.062 L1084.21 576.062 L1084.21 576.062  Z\n  \" fill=\"#009af9\" fill-rule=\"evenodd\" fill-opacity=\"1\"/>\n<polyline clip-path=\"url(#clip122)\" style=\"stroke:#000000; stroke-linecap:butt; stroke-linejoin:round; stroke-width:4; stroke-opacity:1; fill:none\" points=\"\n  1084.21,576.062 1084.21,1445.72 1113.07,1445.72 1113.07,576.062 1084.21,576.062 \n  \"/>\n<path clip-path=\"url(#clip122)\" d=\"\nM1113.07 484.825 L1113.07 1445.72 L1141.93 1445.72 L1141.93 484.825 L1113.07 484.825 L1113.07 484.825  Z\n  \" fill=\"#009af9\" fill-rule=\"evenodd\" fill-opacity=\"1\"/>\n<polyline clip-path=\"url(#clip122)\" style=\"stroke:#000000; stroke-linecap:butt; stroke-linejoin:round; stroke-width:4; stroke-opacity:1; fill:none\" points=\"\n  1113.07,484.825 1113.07,1445.72 1141.93,1445.72 1141.93,484.825 1113.07,484.825 \n  \"/>\n<path clip-path=\"url(#clip122)\" d=\"\nM1141.93 403.1 L1141.93 1445.72 L1170.79 1445.72 L1170.79 403.1 L1141.93 403.1 L1141.93 403.1  Z\n  \" fill=\"#009af9\" fill-rule=\"evenodd\" fill-opacity=\"1\"/>\n<polyline clip-path=\"url(#clip122)\" style=\"stroke:#000000; stroke-linecap:butt; stroke-linejoin:round; stroke-width:4; stroke-opacity:1; fill:none\" points=\"\n  1141.93,403.1 1141.93,1445.72 1170.79,1445.72 1170.79,403.1 1141.93,403.1 \n  \"/>\n<path clip-path=\"url(#clip122)\" d=\"\nM1170.79 309.218 L1170.79 1445.72 L1199.65 1445.72 L1199.65 309.218 L1170.79 309.218 L1170.79 309.218  Z\n  \" fill=\"#009af9\" fill-rule=\"evenodd\" fill-opacity=\"1\"/>\n<polyline clip-path=\"url(#clip122)\" style=\"stroke:#000000; stroke-linecap:butt; stroke-linejoin:round; stroke-width:4; stroke-opacity:1; fill:none\" points=\"\n  1170.79,309.218 1170.79,1445.72 1199.65,1445.72 1199.65,309.218 1170.79,309.218 \n  \"/>\n<path clip-path=\"url(#clip122)\" d=\"\nM1199.65 245.246 L1199.65 1445.72 L1228.51 1445.72 L1228.51 245.246 L1199.65 245.246 L1199.65 245.246  Z\n  \" fill=\"#009af9\" fill-rule=\"evenodd\" fill-opacity=\"1\"/>\n<polyline clip-path=\"url(#clip122)\" style=\"stroke:#000000; stroke-linecap:butt; stroke-linejoin:round; stroke-width:4; stroke-opacity:1; fill:none\" points=\"\n  1199.65,245.246 1199.65,1445.72 1228.51,1445.72 1228.51,245.246 1199.65,245.246 \n  \"/>\n<path clip-path=\"url(#clip122)\" d=\"\nM1228.51 164.482 L1228.51 1445.72 L1257.37 1445.72 L1257.37 164.482 L1228.51 164.482 L1228.51 164.482  Z\n  \" fill=\"#009af9\" fill-rule=\"evenodd\" fill-opacity=\"1\"/>\n<polyline clip-path=\"url(#clip122)\" style=\"stroke:#000000; stroke-linecap:butt; stroke-linejoin:round; stroke-width:4; stroke-opacity:1; fill:none\" points=\"\n  1228.51,164.482 1228.51,1445.72 1257.37,1445.72 1257.37,164.482 1228.51,164.482 \n  \"/>\n<path clip-path=\"url(#clip122)\" d=\"\nM1257.37 109.163 L1257.37 1445.72 L1286.23 1445.72 L1286.23 109.163 L1257.37 109.163 L1257.37 109.163  Z\n  \" fill=\"#009af9\" fill-rule=\"evenodd\" fill-opacity=\"1\"/>\n<polyline clip-path=\"url(#clip122)\" style=\"stroke:#000000; stroke-linecap:butt; stroke-linejoin:round; stroke-width:4; stroke-opacity:1; fill:none\" points=\"\n  1257.37,109.163 1257.37,1445.72 1286.23,1445.72 1286.23,109.163 1257.37,109.163 \n  \"/>\n<path clip-path=\"url(#clip122)\" d=\"\nM1286.23 90.0366 L1286.23 1445.72 L1315.09 1445.72 L1315.09 90.0366 L1286.23 90.0366 L1286.23 90.0366  Z\n  \" fill=\"#009af9\" fill-rule=\"evenodd\" fill-opacity=\"1\"/>\n<polyline clip-path=\"url(#clip122)\" style=\"stroke:#000000; stroke-linecap:butt; stroke-linejoin:round; stroke-width:4; stroke-opacity:1; fill:none\" points=\"\n  1286.23,90.0366 1286.23,1445.72 1315.09,1445.72 1315.09,90.0366 1286.23,90.0366 \n  \"/>\n<path clip-path=\"url(#clip122)\" d=\"\nM1315.09 87.9763 L1315.09 1445.72 L1343.95 1445.72 L1343.95 87.9763 L1315.09 87.9763 L1315.09 87.9763  Z\n  \" fill=\"#009af9\" fill-rule=\"evenodd\" fill-opacity=\"1\"/>\n<polyline clip-path=\"url(#clip122)\" style=\"stroke:#000000; stroke-linecap:butt; stroke-linejoin:round; stroke-width:4; stroke-opacity:1; fill:none\" points=\"\n  1315.09,87.9763 1315.09,1445.72 1343.95,1445.72 1343.95,87.9763 1315.09,87.9763 \n  \"/>\n<path clip-path=\"url(#clip122)\" d=\"\nM1343.95 122.177 L1343.95 1445.72 L1372.81 1445.72 L1372.81 122.177 L1343.95 122.177 L1343.95 122.177  Z\n  \" fill=\"#009af9\" fill-rule=\"evenodd\" fill-opacity=\"1\"/>\n<polyline clip-path=\"url(#clip122)\" style=\"stroke:#000000; stroke-linecap:butt; stroke-linejoin:round; stroke-width:4; stroke-opacity:1; fill:none\" points=\"\n  1343.95,122.177 1343.95,1445.72 1372.81,1445.72 1372.81,122.177 1343.95,122.177 \n  \"/>\n<path clip-path=\"url(#clip122)\" d=\"\nM1372.81 165.993 L1372.81 1445.72 L1401.67 1445.72 L1401.67 165.993 L1372.81 165.993 L1372.81 165.993  Z\n  \" fill=\"#009af9\" fill-rule=\"evenodd\" fill-opacity=\"1\"/>\n<polyline clip-path=\"url(#clip122)\" style=\"stroke:#000000; stroke-linecap:butt; stroke-linejoin:round; stroke-width:4; stroke-opacity:1; fill:none\" points=\"\n  1372.81,165.993 1372.81,1445.72 1401.67,1445.72 1401.67,165.993 1372.81,165.993 \n  \"/>\n<path clip-path=\"url(#clip122)\" d=\"\nM1401.67 238.722 L1401.67 1445.72 L1430.53 1445.72 L1430.53 238.722 L1401.67 238.722 L1401.67 238.722  Z\n  \" fill=\"#009af9\" fill-rule=\"evenodd\" fill-opacity=\"1\"/>\n<polyline clip-path=\"url(#clip122)\" style=\"stroke:#000000; stroke-linecap:butt; stroke-linejoin:round; stroke-width:4; stroke-opacity:1; fill:none\" points=\"\n  1401.67,238.722 1401.67,1445.72 1430.53,1445.72 1430.53,238.722 1401.67,238.722 \n  \"/>\n<path clip-path=\"url(#clip122)\" d=\"\nM1430.53 314.266 L1430.53 1445.72 L1459.39 1445.72 L1459.39 314.266 L1430.53 314.266 L1430.53 314.266  Z\n  \" fill=\"#009af9\" fill-rule=\"evenodd\" fill-opacity=\"1\"/>\n<polyline clip-path=\"url(#clip122)\" style=\"stroke:#000000; stroke-linecap:butt; stroke-linejoin:round; stroke-width:4; stroke-opacity:1; fill:none\" points=\"\n  1430.53,314.266 1430.53,1445.72 1459.39,1445.72 1459.39,314.266 1430.53,314.266 \n  \"/>\n<path clip-path=\"url(#clip122)\" d=\"\nM1459.39 412.989 L1459.39 1445.72 L1488.25 1445.72 L1488.25 412.989 L1459.39 412.989 L1459.39 412.989  Z\n  \" fill=\"#009af9\" fill-rule=\"evenodd\" fill-opacity=\"1\"/>\n<polyline clip-path=\"url(#clip122)\" style=\"stroke:#000000; stroke-linecap:butt; stroke-linejoin:round; stroke-width:4; stroke-opacity:1; fill:none\" points=\"\n  1459.39,412.989 1459.39,1445.72 1488.25,1445.72 1488.25,412.989 1459.39,412.989 \n  \"/>\n<path clip-path=\"url(#clip122)\" d=\"\nM1488.25 496.088 L1488.25 1445.72 L1517.11 1445.72 L1517.11 496.088 L1488.25 496.088 L1488.25 496.088  Z\n  \" fill=\"#009af9\" fill-rule=\"evenodd\" fill-opacity=\"1\"/>\n<polyline clip-path=\"url(#clip122)\" style=\"stroke:#000000; stroke-linecap:butt; stroke-linejoin:round; stroke-width:4; stroke-opacity:1; fill:none\" points=\"\n  1488.25,496.088 1488.25,1445.72 1517.11,1445.72 1517.11,496.088 1488.25,496.088 \n  \"/>\n<path clip-path=\"url(#clip122)\" d=\"\nM1517.11 567.924 L1517.11 1445.72 L1545.97 1445.72 L1545.97 567.924 L1517.11 567.924 L1517.11 567.924  Z\n  \" fill=\"#009af9\" fill-rule=\"evenodd\" fill-opacity=\"1\"/>\n<polyline clip-path=\"url(#clip122)\" style=\"stroke:#000000; stroke-linecap:butt; stroke-linejoin:round; stroke-width:4; stroke-opacity:1; fill:none\" points=\"\n  1517.11,567.924 1517.11,1445.72 1545.97,1445.72 1545.97,567.924 1517.11,567.924 \n  \"/>\n<path clip-path=\"url(#clip122)\" d=\"\nM1545.97 653.735 L1545.97 1445.72 L1574.83 1445.72 L1574.83 653.735 L1545.97 653.735 L1545.97 653.735  Z\n  \" fill=\"#009af9\" fill-rule=\"evenodd\" fill-opacity=\"1\"/>\n<polyline clip-path=\"url(#clip122)\" style=\"stroke:#000000; stroke-linecap:butt; stroke-linejoin:round; stroke-width:4; stroke-opacity:1; fill:none\" points=\"\n  1545.97,653.735 1545.97,1445.72 1574.83,1445.72 1574.83,653.735 1545.97,653.735 \n  \"/>\n<path clip-path=\"url(#clip122)\" d=\"\nM1574.83 731.649 L1574.83 1445.72 L1603.69 1445.72 L1603.69 731.649 L1574.83 731.649 L1574.83 731.649  Z\n  \" fill=\"#009af9\" fill-rule=\"evenodd\" fill-opacity=\"1\"/>\n<polyline clip-path=\"url(#clip122)\" style=\"stroke:#000000; stroke-linecap:butt; stroke-linejoin:round; stroke-width:4; stroke-opacity:1; fill:none\" points=\"\n  1574.83,731.649 1574.83,1445.72 1603.69,1445.72 1603.69,731.649 1574.83,731.649 \n  \"/>\n<path clip-path=\"url(#clip122)\" d=\"\nM1603.69 796.549 L1603.69 1445.72 L1632.55 1445.72 L1632.55 796.549 L1603.69 796.549 L1603.69 796.549  Z\n  \" fill=\"#009af9\" fill-rule=\"evenodd\" fill-opacity=\"1\"/>\n<polyline clip-path=\"url(#clip122)\" style=\"stroke:#000000; stroke-linecap:butt; stroke-linejoin:round; stroke-width:4; stroke-opacity:1; fill:none\" points=\"\n  1603.69,796.549 1603.69,1445.72 1632.55,1445.72 1632.55,796.549 1603.69,796.549 \n  \"/>\n<path clip-path=\"url(#clip122)\" d=\"\nM1632.55 855.851 L1632.55 1445.72 L1661.41 1445.72 L1661.41 855.851 L1632.55 855.851 L1632.55 855.851  Z\n  \" fill=\"#009af9\" fill-rule=\"evenodd\" fill-opacity=\"1\"/>\n<polyline clip-path=\"url(#clip122)\" style=\"stroke:#000000; stroke-linecap:butt; stroke-linejoin:round; stroke-width:4; stroke-opacity:1; fill:none\" points=\"\n  1632.55,855.851 1632.55,1445.72 1661.41,1445.72 1661.41,855.851 1632.55,855.851 \n  \"/>\n<path clip-path=\"url(#clip122)\" d=\"\nM1661.41 915.565 L1661.41 1445.72 L1690.27 1445.72 L1690.27 915.565 L1661.41 915.565 L1661.41 915.565  Z\n  \" fill=\"#009af9\" fill-rule=\"evenodd\" fill-opacity=\"1\"/>\n<polyline clip-path=\"url(#clip122)\" style=\"stroke:#000000; stroke-linecap:butt; stroke-linejoin:round; stroke-width:4; stroke-opacity:1; fill:none\" points=\"\n  1661.41,915.565 1661.41,1445.72 1690.27,1445.72 1690.27,915.565 1661.41,915.565 \n  \"/>\n<path clip-path=\"url(#clip122)\" d=\"\nM1690.27 964.841 L1690.27 1445.72 L1719.13 1445.72 L1719.13 964.841 L1690.27 964.841 L1690.27 964.841  Z\n  \" fill=\"#009af9\" fill-rule=\"evenodd\" fill-opacity=\"1\"/>\n<polyline clip-path=\"url(#clip122)\" style=\"stroke:#000000; stroke-linecap:butt; stroke-linejoin:round; stroke-width:4; stroke-opacity:1; fill:none\" points=\"\n  1690.27,964.841 1690.27,1445.72 1719.13,1445.72 1719.13,964.841 1690.27,964.841 \n  \"/>\n<path clip-path=\"url(#clip122)\" d=\"\nM1719.13 1010.55 L1719.13 1445.72 L1747.99 1445.72 L1747.99 1010.55 L1719.13 1010.55 L1719.13 1010.55  Z\n  \" fill=\"#009af9\" fill-rule=\"evenodd\" fill-opacity=\"1\"/>\n<polyline clip-path=\"url(#clip122)\" style=\"stroke:#000000; stroke-linecap:butt; stroke-linejoin:round; stroke-width:4; stroke-opacity:1; fill:none\" points=\"\n  1719.13,1010.55 1719.13,1445.72 1747.99,1445.72 1747.99,1010.55 1719.13,1010.55 \n  \"/>\n<path clip-path=\"url(#clip122)\" d=\"\nM1747.99 1041.66 L1747.99 1445.72 L1776.85 1445.72 L1776.85 1041.66 L1747.99 1041.66 L1747.99 1041.66  Z\n  \" fill=\"#009af9\" fill-rule=\"evenodd\" fill-opacity=\"1\"/>\n<polyline clip-path=\"url(#clip122)\" style=\"stroke:#000000; stroke-linecap:butt; stroke-linejoin:round; stroke-width:4; stroke-opacity:1; fill:none\" points=\"\n  1747.99,1041.66 1747.99,1445.72 1776.85,1445.72 1776.85,1041.66 1747.99,1041.66 \n  \"/>\n<path clip-path=\"url(#clip122)\" d=\"\nM1776.85 1077.54 L1776.85 1445.72 L1805.71 1445.72 L1805.71 1077.54 L1776.85 1077.54 L1776.85 1077.54  Z\n  \" fill=\"#009af9\" fill-rule=\"evenodd\" fill-opacity=\"1\"/>\n<polyline clip-path=\"url(#clip122)\" style=\"stroke:#000000; stroke-linecap:butt; stroke-linejoin:round; stroke-width:4; stroke-opacity:1; fill:none\" points=\"\n  1776.85,1077.54 1776.85,1445.72 1805.71,1445.72 1805.71,1077.54 1776.85,1077.54 \n  \"/>\n<path clip-path=\"url(#clip122)\" d=\"\nM1805.71 1110.74 L1805.71 1445.72 L1834.57 1445.72 L1834.57 1110.74 L1805.71 1110.74 L1805.71 1110.74  Z\n  \" fill=\"#009af9\" fill-rule=\"evenodd\" fill-opacity=\"1\"/>\n<polyline clip-path=\"url(#clip122)\" style=\"stroke:#000000; stroke-linecap:butt; stroke-linejoin:round; stroke-width:4; stroke-opacity:1; fill:none\" points=\"\n  1805.71,1110.74 1805.71,1445.72 1834.57,1445.72 1834.57,1110.74 1805.71,1110.74 \n  \"/>\n<path clip-path=\"url(#clip122)\" d=\"\nM1834.57 1141.34 L1834.57 1445.72 L1863.43 1445.72 L1863.43 1141.34 L1834.57 1141.34 L1834.57 1141.34  Z\n  \" fill=\"#009af9\" fill-rule=\"evenodd\" fill-opacity=\"1\"/>\n<polyline clip-path=\"url(#clip122)\" style=\"stroke:#000000; stroke-linecap:butt; stroke-linejoin:round; stroke-width:4; stroke-opacity:1; fill:none\" points=\"\n  1834.57,1141.34 1834.57,1445.72 1863.43,1445.72 1863.43,1141.34 1834.57,1141.34 \n  \"/>\n<path clip-path=\"url(#clip122)\" d=\"\nM1863.43 1155.52 L1863.43 1445.72 L1892.29 1445.72 L1892.29 1155.52 L1863.43 1155.52 L1863.43 1155.52  Z\n  \" fill=\"#009af9\" fill-rule=\"evenodd\" fill-opacity=\"1\"/>\n<polyline clip-path=\"url(#clip122)\" style=\"stroke:#000000; stroke-linecap:butt; stroke-linejoin:round; stroke-width:4; stroke-opacity:1; fill:none\" points=\"\n  1863.43,1155.52 1863.43,1445.72 1892.29,1445.72 1892.29,1155.52 1863.43,1155.52 \n  \"/>\n<path clip-path=\"url(#clip122)\" d=\"\nM1892.29 1184.85 L1892.29 1445.72 L1921.15 1445.72 L1921.15 1184.85 L1892.29 1184.85 L1892.29 1184.85  Z\n  \" fill=\"#009af9\" fill-rule=\"evenodd\" fill-opacity=\"1\"/>\n<polyline clip-path=\"url(#clip122)\" style=\"stroke:#000000; stroke-linecap:butt; stroke-linejoin:round; stroke-width:4; stroke-opacity:1; fill:none\" points=\"\n  1892.29,1184.85 1892.29,1445.72 1921.15,1445.72 1921.15,1184.85 1892.29,1184.85 \n  \"/>\n<path clip-path=\"url(#clip122)\" d=\"\nM1921.15 1205.72 L1921.15 1445.72 L1950.01 1445.72 L1950.01 1205.72 L1921.15 1205.72 L1921.15 1205.72  Z\n  \" fill=\"#009af9\" fill-rule=\"evenodd\" fill-opacity=\"1\"/>\n<polyline clip-path=\"url(#clip122)\" style=\"stroke:#000000; stroke-linecap:butt; stroke-linejoin:round; stroke-width:4; stroke-opacity:1; fill:none\" points=\"\n  1921.15,1205.72 1921.15,1445.72 1950.01,1445.72 1950.01,1205.72 1921.15,1205.72 \n  \"/>\n<path clip-path=\"url(#clip122)\" d=\"\nM1950.01 1219.91 L1950.01 1445.72 L1978.87 1445.72 L1978.87 1219.91 L1950.01 1219.91 L1950.01 1219.91  Z\n  \" fill=\"#009af9\" fill-rule=\"evenodd\" fill-opacity=\"1\"/>\n<polyline clip-path=\"url(#clip122)\" style=\"stroke:#000000; stroke-linecap:butt; stroke-linejoin:round; stroke-width:4; stroke-opacity:1; fill:none\" points=\"\n  1950.01,1219.91 1950.01,1445.72 1978.87,1445.72 1978.87,1219.91 1950.01,1219.91 \n  \"/>\n<path clip-path=\"url(#clip122)\" d=\"\nM1978.87 1240.06 L1978.87 1445.72 L2007.73 1445.72 L2007.73 1240.06 L1978.87 1240.06 L1978.87 1240.06  Z\n  \" fill=\"#009af9\" fill-rule=\"evenodd\" fill-opacity=\"1\"/>\n<polyline clip-path=\"url(#clip122)\" style=\"stroke:#000000; stroke-linecap:butt; stroke-linejoin:round; stroke-width:4; stroke-opacity:1; fill:none\" points=\"\n  1978.87,1240.06 1978.87,1445.72 2007.73,1445.72 2007.73,1240.06 1978.87,1240.06 \n  \"/>\n<path clip-path=\"url(#clip122)\" d=\"\nM2007.73 1250.67 L2007.73 1445.72 L2036.59 1445.72 L2036.59 1250.67 L2007.73 1250.67 L2007.73 1250.67  Z\n  \" fill=\"#009af9\" fill-rule=\"evenodd\" fill-opacity=\"1\"/>\n<polyline clip-path=\"url(#clip122)\" style=\"stroke:#000000; stroke-linecap:butt; stroke-linejoin:round; stroke-width:4; stroke-opacity:1; fill:none\" points=\"\n  2007.73,1250.67 2007.73,1445.72 2036.59,1445.72 2036.59,1250.67 2007.73,1250.67 \n  \"/>\n<path clip-path=\"url(#clip122)\" d=\"\nM2036.59 1264.89 L2036.59 1445.72 L2065.45 1445.72 L2065.45 1264.89 L2036.59 1264.89 L2036.59 1264.89  Z\n  \" fill=\"#009af9\" fill-rule=\"evenodd\" fill-opacity=\"1\"/>\n<polyline clip-path=\"url(#clip122)\" style=\"stroke:#000000; stroke-linecap:butt; stroke-linejoin:round; stroke-width:4; stroke-opacity:1; fill:none\" points=\"\n  2036.59,1264.89 2036.59,1445.72 2065.45,1445.72 2065.45,1264.89 2036.59,1264.89 \n  \"/>\n<path clip-path=\"url(#clip122)\" d=\"\nM2065.45 1280.14 L2065.45 1445.72 L2094.31 1445.72 L2094.31 1280.14 L2065.45 1280.14 L2065.45 1280.14  Z\n  \" fill=\"#009af9\" fill-rule=\"evenodd\" fill-opacity=\"1\"/>\n<polyline clip-path=\"url(#clip122)\" style=\"stroke:#000000; stroke-linecap:butt; stroke-linejoin:round; stroke-width:4; stroke-opacity:1; fill:none\" points=\"\n  2065.45,1280.14 2065.45,1445.72 2094.31,1445.72 2094.31,1280.14 2065.45,1280.14 \n  \"/>\n<path clip-path=\"url(#clip122)\" d=\"\nM2094.31 1289.1 L2094.31 1445.72 L2123.17 1445.72 L2123.17 1289.1 L2094.31 1289.1 L2094.31 1289.1  Z\n  \" fill=\"#009af9\" fill-rule=\"evenodd\" fill-opacity=\"1\"/>\n<polyline clip-path=\"url(#clip122)\" style=\"stroke:#000000; stroke-linecap:butt; stroke-linejoin:round; stroke-width:4; stroke-opacity:1; fill:none\" points=\"\n  2094.31,1289.1 2094.31,1445.72 2123.17,1445.72 2123.17,1289.1 2094.31,1289.1 \n  \"/>\n<path clip-path=\"url(#clip122)\" d=\"\nM2123.17 1296.96 L2123.17 1445.72 L2152.03 1445.72 L2152.03 1296.96 L2123.17 1296.96 L2123.17 1296.96  Z\n  \" fill=\"#009af9\" fill-rule=\"evenodd\" fill-opacity=\"1\"/>\n<polyline clip-path=\"url(#clip122)\" style=\"stroke:#000000; stroke-linecap:butt; stroke-linejoin:round; stroke-width:4; stroke-opacity:1; fill:none\" points=\"\n  2123.17,1296.96 2123.17,1445.72 2152.03,1445.72 2152.03,1296.96 2123.17,1296.96 \n  \"/>\n<path clip-path=\"url(#clip122)\" d=\"\nM2152.03 1305.58 L2152.03 1445.72 L2180.89 1445.72 L2180.89 1305.58 L2152.03 1305.58 L2152.03 1305.58  Z\n  \" fill=\"#009af9\" fill-rule=\"evenodd\" fill-opacity=\"1\"/>\n<polyline clip-path=\"url(#clip122)\" style=\"stroke:#000000; stroke-linecap:butt; stroke-linejoin:round; stroke-width:4; stroke-opacity:1; fill:none\" points=\"\n  2152.03,1305.58 2152.03,1445.72 2180.89,1445.72 2180.89,1305.58 2152.03,1305.58 \n  \"/>\n<path clip-path=\"url(#clip122)\" d=\"\nM2180.89 1317.05 L2180.89 1445.72 L2209.75 1445.72 L2209.75 1317.05 L2180.89 1317.05 L2180.89 1317.05  Z\n  \" fill=\"#009af9\" fill-rule=\"evenodd\" fill-opacity=\"1\"/>\n<polyline clip-path=\"url(#clip122)\" style=\"stroke:#000000; stroke-linecap:butt; stroke-linejoin:round; stroke-width:4; stroke-opacity:1; fill:none\" points=\"\n  2180.89,1317.05 2180.89,1445.72 2209.75,1445.72 2209.75,1317.05 2180.89,1317.05 \n  \"/>\n<path clip-path=\"url(#clip122)\" d=\"\nM2209.75 1391.43 L2209.75 1445.72 L2238.61 1445.72 L2238.61 1391.43 L2209.75 1391.43 L2209.75 1391.43  Z\n  \" fill=\"#009af9\" fill-rule=\"evenodd\" fill-opacity=\"1\"/>\n<polyline clip-path=\"url(#clip122)\" style=\"stroke:#000000; stroke-linecap:butt; stroke-linejoin:round; stroke-width:4; stroke-opacity:1; fill:none\" points=\"\n  2209.75,1391.43 2209.75,1445.72 2238.61,1445.72 2238.61,1391.43 2209.75,1391.43 \n  \"/>\n<circle clip-path=\"url(#clip122)\" style=\"fill:#009af9; stroke:none; fill-opacity:0\" cx=\"406.007\" cy=\"1393.38\" r=\"2\"/>\n<circle clip-path=\"url(#clip122)\" style=\"fill:#009af9; stroke:none; fill-opacity:0\" cx=\"434.867\" cy=\"1310.9\" r=\"2\"/>\n<circle clip-path=\"url(#clip122)\" style=\"fill:#009af9; stroke:none; fill-opacity:0\" cx=\"463.727\" cy=\"1305.17\" r=\"2\"/>\n<circle clip-path=\"url(#clip122)\" style=\"fill:#009af9; stroke:none; fill-opacity:0\" cx=\"492.587\" cy=\"1299.57\" r=\"2\"/>\n<circle clip-path=\"url(#clip122)\" style=\"fill:#009af9; stroke:none; fill-opacity:0\" cx=\"521.447\" cy=\"1286.9\" r=\"2\"/>\n<circle clip-path=\"url(#clip122)\" style=\"fill:#009af9; stroke:none; fill-opacity:0\" cx=\"550.307\" cy=\"1271.69\" r=\"2\"/>\n<circle clip-path=\"url(#clip122)\" style=\"fill:#009af9; stroke:none; fill-opacity:0\" cx=\"579.167\" cy=\"1263.28\" r=\"2\"/>\n<circle clip-path=\"url(#clip122)\" style=\"fill:#009af9; stroke:none; fill-opacity:0\" cx=\"608.027\" cy=\"1251.91\" r=\"2\"/>\n<circle clip-path=\"url(#clip122)\" style=\"fill:#009af9; stroke:none; fill-opacity:0\" cx=\"636.886\" cy=\"1234.74\" r=\"2\"/>\n<circle clip-path=\"url(#clip122)\" style=\"fill:#009af9; stroke:none; fill-opacity:0\" cx=\"665.746\" cy=\"1217.67\" r=\"2\"/>\n<circle clip-path=\"url(#clip122)\" style=\"fill:#009af9; stroke:none; fill-opacity:0\" cx=\"694.606\" cy=\"1204.42\" r=\"2\"/>\n<circle clip-path=\"url(#clip122)\" style=\"fill:#009af9; stroke:none; fill-opacity:0\" cx=\"723.466\" cy=\"1185.4\" r=\"2\"/>\n<circle clip-path=\"url(#clip122)\" style=\"fill:#009af9; stroke:none; fill-opacity:0\" cx=\"752.326\" cy=\"1160.02\" r=\"2\"/>\n<circle clip-path=\"url(#clip122)\" style=\"fill:#009af9; stroke:none; fill-opacity:0\" cx=\"781.186\" cy=\"1136.67\" r=\"2\"/>\n<circle clip-path=\"url(#clip122)\" style=\"fill:#009af9; stroke:none; fill-opacity:0\" cx=\"810.046\" cy=\"1113.66\" r=\"2\"/>\n<circle clip-path=\"url(#clip122)\" style=\"fill:#009af9; stroke:none; fill-opacity:0\" cx=\"838.906\" cy=\"1081.01\" r=\"2\"/>\n<circle clip-path=\"url(#clip122)\" style=\"fill:#009af9; stroke:none; fill-opacity:0\" cx=\"867.765\" cy=\"1044.75\" r=\"2\"/>\n<circle clip-path=\"url(#clip122)\" style=\"fill:#009af9; stroke:none; fill-opacity:0\" cx=\"896.625\" cy=\"1009.55\" r=\"2\"/>\n<circle clip-path=\"url(#clip122)\" style=\"fill:#009af9; stroke:none; fill-opacity:0\" cx=\"925.485\" cy=\"961.991\" r=\"2\"/>\n<circle clip-path=\"url(#clip122)\" style=\"fill:#009af9; stroke:none; fill-opacity:0\" cx=\"954.345\" cy=\"919.72\" r=\"2\"/>\n<circle clip-path=\"url(#clip122)\" style=\"fill:#009af9; stroke:none; fill-opacity:0\" cx=\"983.205\" cy=\"859.525\" r=\"2\"/>\n<circle clip-path=\"url(#clip122)\" style=\"fill:#009af9; stroke:none; fill-opacity:0\" cx=\"1012.06\" cy=\"793.081\" r=\"2\"/>\n<circle clip-path=\"url(#clip122)\" style=\"fill:#009af9; stroke:none; fill-opacity:0\" cx=\"1040.92\" cy=\"738.242\" r=\"2\"/>\n<circle clip-path=\"url(#clip122)\" style=\"fill:#009af9; stroke:none; fill-opacity:0\" cx=\"1069.78\" cy=\"654.01\" r=\"2\"/>\n<circle clip-path=\"url(#clip122)\" style=\"fill:#009af9; stroke:none; fill-opacity:0\" cx=\"1098.64\" cy=\"576.062\" r=\"2\"/>\n<circle clip-path=\"url(#clip122)\" style=\"fill:#009af9; stroke:none; fill-opacity:0\" cx=\"1127.5\" cy=\"484.825\" r=\"2\"/>\n<circle clip-path=\"url(#clip122)\" style=\"fill:#009af9; stroke:none; fill-opacity:0\" cx=\"1156.36\" cy=\"403.1\" r=\"2\"/>\n<circle clip-path=\"url(#clip122)\" style=\"fill:#009af9; stroke:none; fill-opacity:0\" cx=\"1185.22\" cy=\"309.218\" r=\"2\"/>\n<circle clip-path=\"url(#clip122)\" style=\"fill:#009af9; stroke:none; fill-opacity:0\" cx=\"1214.08\" cy=\"245.246\" r=\"2\"/>\n<circle clip-path=\"url(#clip122)\" style=\"fill:#009af9; stroke:none; fill-opacity:0\" cx=\"1242.94\" cy=\"164.482\" r=\"2\"/>\n<circle clip-path=\"url(#clip122)\" style=\"fill:#009af9; stroke:none; fill-opacity:0\" cx=\"1271.8\" cy=\"109.163\" r=\"2\"/>\n<circle clip-path=\"url(#clip122)\" style=\"fill:#009af9; stroke:none; fill-opacity:0\" cx=\"1300.66\" cy=\"90.0366\" r=\"2\"/>\n<circle clip-path=\"url(#clip122)\" style=\"fill:#009af9; stroke:none; fill-opacity:0\" cx=\"1329.52\" cy=\"87.9763\" r=\"2\"/>\n<circle clip-path=\"url(#clip122)\" style=\"fill:#009af9; stroke:none; fill-opacity:0\" cx=\"1358.38\" cy=\"122.177\" r=\"2\"/>\n<circle clip-path=\"url(#clip122)\" style=\"fill:#009af9; stroke:none; fill-opacity:0\" cx=\"1387.24\" cy=\"165.993\" r=\"2\"/>\n<circle clip-path=\"url(#clip122)\" style=\"fill:#009af9; stroke:none; fill-opacity:0\" cx=\"1416.1\" cy=\"238.722\" r=\"2\"/>\n<circle clip-path=\"url(#clip122)\" style=\"fill:#009af9; stroke:none; fill-opacity:0\" cx=\"1444.96\" cy=\"314.266\" r=\"2\"/>\n<circle clip-path=\"url(#clip122)\" style=\"fill:#009af9; stroke:none; fill-opacity:0\" cx=\"1473.82\" cy=\"412.989\" r=\"2\"/>\n<circle clip-path=\"url(#clip122)\" style=\"fill:#009af9; stroke:none; fill-opacity:0\" cx=\"1502.68\" cy=\"496.088\" r=\"2\"/>\n<circle clip-path=\"url(#clip122)\" style=\"fill:#009af9; stroke:none; fill-opacity:0\" cx=\"1531.54\" cy=\"567.924\" r=\"2\"/>\n<circle clip-path=\"url(#clip122)\" style=\"fill:#009af9; stroke:none; fill-opacity:0\" cx=\"1560.4\" cy=\"653.735\" r=\"2\"/>\n<circle clip-path=\"url(#clip122)\" style=\"fill:#009af9; stroke:none; fill-opacity:0\" cx=\"1589.26\" cy=\"731.649\" r=\"2\"/>\n<circle clip-path=\"url(#clip122)\" style=\"fill:#009af9; stroke:none; fill-opacity:0\" cx=\"1618.12\" cy=\"796.549\" r=\"2\"/>\n<circle clip-path=\"url(#clip122)\" style=\"fill:#009af9; stroke:none; fill-opacity:0\" cx=\"1646.98\" cy=\"855.851\" r=\"2\"/>\n<circle clip-path=\"url(#clip122)\" style=\"fill:#009af9; stroke:none; fill-opacity:0\" cx=\"1675.84\" cy=\"915.565\" r=\"2\"/>\n<circle clip-path=\"url(#clip122)\" style=\"fill:#009af9; stroke:none; fill-opacity:0\" cx=\"1704.7\" cy=\"964.841\" r=\"2\"/>\n<circle clip-path=\"url(#clip122)\" style=\"fill:#009af9; stroke:none; fill-opacity:0\" cx=\"1733.56\" cy=\"1010.55\" r=\"2\"/>\n<circle clip-path=\"url(#clip122)\" style=\"fill:#009af9; stroke:none; fill-opacity:0\" cx=\"1762.42\" cy=\"1041.66\" r=\"2\"/>\n<circle clip-path=\"url(#clip122)\" style=\"fill:#009af9; stroke:none; fill-opacity:0\" cx=\"1791.28\" cy=\"1077.54\" r=\"2\"/>\n<circle clip-path=\"url(#clip122)\" style=\"fill:#009af9; stroke:none; fill-opacity:0\" cx=\"1820.14\" cy=\"1110.74\" r=\"2\"/>\n<circle clip-path=\"url(#clip122)\" style=\"fill:#009af9; stroke:none; fill-opacity:0\" cx=\"1849\" cy=\"1141.34\" r=\"2\"/>\n<circle clip-path=\"url(#clip122)\" style=\"fill:#009af9; stroke:none; fill-opacity:0\" cx=\"1877.86\" cy=\"1155.52\" r=\"2\"/>\n<circle clip-path=\"url(#clip122)\" style=\"fill:#009af9; stroke:none; fill-opacity:0\" cx=\"1906.72\" cy=\"1184.85\" r=\"2\"/>\n<circle clip-path=\"url(#clip122)\" style=\"fill:#009af9; stroke:none; fill-opacity:0\" cx=\"1935.58\" cy=\"1205.72\" r=\"2\"/>\n<circle clip-path=\"url(#clip122)\" style=\"fill:#009af9; stroke:none; fill-opacity:0\" cx=\"1964.44\" cy=\"1219.91\" r=\"2\"/>\n<circle clip-path=\"url(#clip122)\" style=\"fill:#009af9; stroke:none; fill-opacity:0\" cx=\"1993.3\" cy=\"1240.06\" r=\"2\"/>\n<circle clip-path=\"url(#clip122)\" style=\"fill:#009af9; stroke:none; fill-opacity:0\" cx=\"2022.16\" cy=\"1250.67\" r=\"2\"/>\n<circle clip-path=\"url(#clip122)\" style=\"fill:#009af9; stroke:none; fill-opacity:0\" cx=\"2051.02\" cy=\"1264.89\" r=\"2\"/>\n<circle clip-path=\"url(#clip122)\" style=\"fill:#009af9; stroke:none; fill-opacity:0\" cx=\"2079.88\" cy=\"1280.14\" r=\"2\"/>\n<circle clip-path=\"url(#clip122)\" style=\"fill:#009af9; stroke:none; fill-opacity:0\" cx=\"2108.74\" cy=\"1289.1\" r=\"2\"/>\n<circle clip-path=\"url(#clip122)\" style=\"fill:#009af9; stroke:none; fill-opacity:0\" cx=\"2137.6\" cy=\"1296.96\" r=\"2\"/>\n<circle clip-path=\"url(#clip122)\" style=\"fill:#009af9; stroke:none; fill-opacity:0\" cx=\"2166.46\" cy=\"1305.58\" r=\"2\"/>\n<circle clip-path=\"url(#clip122)\" style=\"fill:#009af9; stroke:none; fill-opacity:0\" cx=\"2195.32\" cy=\"1317.05\" r=\"2\"/>\n<circle clip-path=\"url(#clip122)\" style=\"fill:#009af9; stroke:none; fill-opacity:0\" cx=\"2224.18\" cy=\"1391.43\" r=\"2\"/>\n<path clip-path=\"url(#clip120)\" d=\"\nM2000.56 198.898 L2283.58 198.898 L2283.58 95.2176 L2000.56 95.2176  Z\n  \" fill=\"#ffffff\" fill-rule=\"evenodd\" fill-opacity=\"1\"/>\n<polyline clip-path=\"url(#clip120)\" style=\"stroke:#000000; stroke-linecap:butt; stroke-linejoin:round; stroke-width:4; stroke-opacity:1; fill:none\" points=\"\n  2000.56,198.898 2283.58,198.898 2283.58,95.2176 2000.56,95.2176 2000.56,198.898 \n  \"/>\n<path clip-path=\"url(#clip120)\" d=\"\nM2023.62 167.794 L2161.97 167.794 L2161.97 126.322 L2023.62 126.322 L2023.62 167.794  Z\n  \" fill=\"#009af9\" fill-rule=\"evenodd\" fill-opacity=\"1\"/>\n<polyline clip-path=\"url(#clip120)\" style=\"stroke:#000000; stroke-linecap:butt; stroke-linejoin:round; stroke-width:4; stroke-opacity:1; fill:none\" points=\"\n  2023.62,167.794 2161.97,167.794 2161.97,126.322 2023.62,126.322 2023.62,167.794 \n  \"/>\n<path clip-path=\"url(#clip120)\" d=\"M2198.87 166.745 Q2197.07 171.375 2195.35 172.787 Q2193.64 174.199 2190.77 174.199 L2187.37 174.199 L2187.37 170.634 L2189.87 170.634 Q2191.63 170.634 2192.6 169.8 Q2193.57 168.967 2194.75 165.865 L2195.52 163.921 L2185.03 138.412 L2189.54 138.412 L2197.65 158.689 L2205.75 138.412 L2210.26 138.412 L2198.87 166.745 Z\" fill=\"#000000\" fill-rule=\"evenodd\" fill-opacity=\"1\" /><path clip-path=\"url(#clip120)\" d=\"M2217.55 160.402 L2225.19 160.402 L2225.19 134.037 L2216.88 135.703 L2216.88 131.444 L2225.15 129.778 L2229.82 129.778 L2229.82 160.402 L2237.46 160.402 L2237.46 164.338 L2217.55 164.338 L2217.55 160.402 Z\" fill=\"#000000\" fill-rule=\"evenodd\" fill-opacity=\"1\" /></svg>\n"
     },
     "execution_count": 3,
     "metadata": {},
     "output_type": "execute_result"
    }
   ],
   "source": [
    "histogram(rand(u,1000000),bins= 100)"
   ]
  },
  {
   "cell_type": "code",
   "execution_count": 4,
   "metadata": {},
   "outputs": [
    {
     "data": {
      "text/plain": [
       "BenchmarkTools.Trial: 2108 samples with 1 evaluation.\n",
       " Range \u001b[90m(\u001b[39m\u001b[36m\u001b[1mmin\u001b[22m\u001b[39m … \u001b[35mmax\u001b[39m\u001b[90m):  \u001b[39m\u001b[36m\u001b[1m2.142 ms\u001b[22m\u001b[39m … \u001b[35m  5.088 ms\u001b[39m  \u001b[90m┊\u001b[39m GC \u001b[90m(\u001b[39mmin … max\u001b[90m): \u001b[39m0.00% … 51.45%\n",
       " Time  \u001b[90m(\u001b[39m\u001b[34m\u001b[1mmedian\u001b[22m\u001b[39m\u001b[90m):     \u001b[39m\u001b[34m\u001b[1m2.315 ms               \u001b[22m\u001b[39m\u001b[90m┊\u001b[39m GC \u001b[90m(\u001b[39mmedian\u001b[90m):    \u001b[39m0.00%\n",
       " Time  \u001b[90m(\u001b[39m\u001b[32m\u001b[1mmean\u001b[22m\u001b[39m ± \u001b[32mσ\u001b[39m\u001b[90m):   \u001b[39m\u001b[32m\u001b[1m2.368 ms\u001b[22m\u001b[39m ± \u001b[32m330.350 μs\u001b[39m  \u001b[90m┊\u001b[39m GC \u001b[90m(\u001b[39mmean ± σ\u001b[90m):  \u001b[39m1.78% ±  6.65%\n",
       "\n",
       "  \u001b[39m▃\u001b[39m \u001b[39m \u001b[39m█\u001b[34m▇\u001b[39m\u001b[32m▄\u001b[39m\u001b[39m▁\u001b[39m \u001b[39m \u001b[39m \u001b[39m \u001b[39m \u001b[39m \u001b[39m \u001b[39m \u001b[39m \u001b[39m \u001b[39m \u001b[39m \u001b[39m \u001b[39m \u001b[39m \u001b[39m \u001b[39m \u001b[39m \u001b[39m \u001b[39m \u001b[39m \u001b[39m \u001b[39m \u001b[39m \u001b[39m \u001b[39m \u001b[39m \u001b[39m \u001b[39m \u001b[39m \u001b[39m \u001b[39m \u001b[39m \u001b[39m \u001b[39m \u001b[39m \u001b[39m \u001b[39m \u001b[39m \u001b[39m \u001b[39m \u001b[39m \u001b[39m \u001b[39m \u001b[39m \u001b[39m \u001b[39m \u001b[39m \u001b[39m \u001b[39m \u001b[39m \u001b[39m \u001b[39m \u001b[39m \n",
       "  \u001b[39m█\u001b[39m▇\u001b[39m▃\u001b[39m█\u001b[34m█\u001b[39m\u001b[32m█\u001b[39m\u001b[39m█\u001b[39m█\u001b[39m▃\u001b[39m▅\u001b[39m▅\u001b[39m▆\u001b[39m▆\u001b[39m▁\u001b[39m▆\u001b[39m▄\u001b[39m▅\u001b[39m▆\u001b[39m▅\u001b[39m▃\u001b[39m▁\u001b[39m▁\u001b[39m▁\u001b[39m▁\u001b[39m▁\u001b[39m▁\u001b[39m▁\u001b[39m▁\u001b[39m▁\u001b[39m▁\u001b[39m▁\u001b[39m▁\u001b[39m▁\u001b[39m▁\u001b[39m▁\u001b[39m▁\u001b[39m▁\u001b[39m▁\u001b[39m▁\u001b[39m▁\u001b[39m▁\u001b[39m▁\u001b[39m▁\u001b[39m▁\u001b[39m▁\u001b[39m▁\u001b[39m▁\u001b[39m▁\u001b[39m▁\u001b[39m▁\u001b[39m▁\u001b[39m▁\u001b[39m▁\u001b[39m▁\u001b[39m▃\u001b[39m▃\u001b[39m▄\u001b[39m▆\u001b[39m▅\u001b[39m \u001b[39m█\n",
       "  2.14 ms\u001b[90m      \u001b[39m\u001b[90mHistogram: \u001b[39m\u001b[90m\u001b[1mlog(\u001b[22m\u001b[39m\u001b[90mfrequency\u001b[39m\u001b[90m\u001b[1m)\u001b[22m\u001b[39m\u001b[90m by time\u001b[39m      4.77 ms \u001b[0m\u001b[1m<\u001b[22m\n",
       "\n",
       " Memory estimate\u001b[90m: \u001b[39m\u001b[33m781.30 KiB\u001b[39m, allocs estimate\u001b[90m: \u001b[39m\u001b[33m2\u001b[39m."
      ]
     },
     "execution_count": 4,
     "metadata": {},
     "output_type": "execute_result"
    }
   ],
   "source": [
    "@benchmark rand(d,100000)"
   ]
  },
  {
   "cell_type": "markdown",
   "metadata": {},
   "source": [
    "# ODE Test"
   ]
  },
  {
   "cell_type": "code",
   "execution_count": 2,
   "metadata": {},
   "outputs": [],
   "source": [
    "using Pkg\n",
    "using Plots, Random, Distributions\n",
    "using BenchmarkTools\n",
    "using DifferentialEquations, LinearAlgebra, StaticArrays"
   ]
  },
  {
   "cell_type": "code",
   "execution_count": 3,
   "metadata": {},
   "outputs": [
    {
     "data": {
      "text/plain": [
       "(0.0, 10.0)"
      ]
     },
     "execution_count": 3,
     "metadata": {},
     "output_type": "execute_result"
    }
   ],
   "source": [
    "N = 3200\n",
    "Aij = ones((N,N)) - 1I;\n",
    "\n",
    "gω = Cauchy(0,1)\n",
    "g𝜽 = Uniform(-pi,pi) \n",
    "Kc = 2/(pi*pdf(gω,0))\n",
    "theta = rand(g𝜽,N);\n",
    "omega = rand(gω,N);\n",
    "K = 3\n",
    "tspan = (0.0,10.0)"
   ]
  },
  {
   "cell_type": "code",
   "execution_count": 49,
   "metadata": {},
   "outputs": [
    {
     "data": {
      "text/plain": [
       "true"
      ]
     },
     "execution_count": 49,
     "metadata": {},
     "output_type": "execute_result"
    }
   ],
   "source": [
    "i,j = theta,theta'\n",
    "# sin!!!!! = sin.(j.-i)\n",
    "inter = Aij.*sin.(j.-i)\n",
    "inter! = @.sin(j-i)*Aij\n",
    "inter==inter!"
   ]
  },
  {
   "cell_type": "code",
   "execution_count": 4,
   "metadata": {},
   "outputs": [
    {
     "data": {
      "text/plain": [
       "kuramoto (generic function with 1 method)"
      ]
     },
     "execution_count": 4,
     "metadata": {},
     "output_type": "execute_result"
    }
   ],
   "source": [
    "function r_psi(u)\n",
    "    rpsi = (1/N)*sum(exp.(u*1im))\n",
    "    r = abs(rpsi)\n",
    "    psi = angle(rpsi)\n",
    "    return r, psi\n",
    "end\n",
    "\n",
    "function kuramoto_rk4(u,t)\n",
    "    i,j = u,u'\n",
    "    inter = @.sin(j-i)*Aij\n",
    "    return theta = vec(omega + K*sum(inter,dims=2)/N)\n",
    "end\n",
    "function kuramoto_mean_rk4(u,t)\n",
    "    r,psi = r_psi(u)\n",
    "    dxdu = vec(omega + K*r*sin.(-(u.-psi)))\n",
    "    return dxdu\n",
    "end\n",
    "function kuramoto_mean(u,p,t)\n",
    "    rpsi = (1//N)*sum(exp.(u*1im))\n",
    "    dxdu = vec(omega + K*abs(rpsi)*sin.(-(u.-angle(rpsi))))\n",
    "    return dxdu\n",
    "end\n",
    "function kuramoto_mean(u,p,t)\n",
    "    rpsi = (1//N)*sum(exp.(u*1im))\n",
    "    dxdu = vec(omega + K*abs(rpsi)*sin.(-(u.-angle(rpsi))))\n",
    "    return dxdu\n",
    "end\n",
    "function kuramoto(u,p,t)\n",
    "    i,j = u,u'\n",
    "    inter = @.sin(j-i)*Aij\n",
    "    return theta = vec(omega + K*sum(inter,dims=2)/N)\n",
    "end"
   ]
  },
  {
   "cell_type": "code",
   "execution_count": 6,
   "metadata": {},
   "outputs": [
    {
     "data": {
      "text/plain": [
       "rungekutta4 (generic function with 1 method)"
      ]
     },
     "execution_count": 6,
     "metadata": {},
     "output_type": "execute_result"
    }
   ],
   "source": [
    "function rungekutta4(f, y0, t)\n",
    "    n = length(t)\n",
    "    y = zeros((n, length(y0)))\n",
    "    y[1,:] = y0\n",
    "    for i in 1:n-1\n",
    "        h = t[i+1] - t[i]\n",
    "        k1 = f(y[i,:], t[i])\n",
    "        k2 = f(y[i,:] + k1 * h/2, t[i] + h/2)\n",
    "        k3 = f(y[i,:] + k2 * h/2, t[i] + h/2)\n",
    "        k4 = f(y[i,:] + k3 * h, t[i] + h)\n",
    "        y[i+1,:] = y[i,:] + (h/6) * (k1 + 2k2 + 2k3 + k4)\n",
    "    end\n",
    "    return y\n",
    "end"
   ]
  },
  {
   "cell_type": "code",
   "execution_count": 9,
   "metadata": {},
   "outputs": [
    {
     "data": {
      "text/plain": [
       "0.0:0.01:1000.0"
      ]
     },
     "execution_count": 9,
     "metadata": {},
     "output_type": "execute_result"
    }
   ],
   "source": [
    "t = range(0,1000,100001)\n",
    "# length(t)"
   ]
  },
  {
   "cell_type": "code",
   "execution_count": 10,
   "metadata": {},
   "outputs": [],
   "source": [
    "@btime sol = rungekutta4(kuramoto_mean_rk4,theta,t)"
   ]
  },
  {
   "cell_type": "code",
   "execution_count": 16,
   "metadata": {},
   "outputs": [],
   "source": [
    "prob = ODEProblem(kuramoto_mean,theta,tspan);"
   ]
  },
  {
   "cell_type": "code",
   "execution_count": 79,
   "metadata": {},
   "outputs": [
    {
     "data": {
      "text/plain": [
       "BenchmarkTools.Trial: 10000 samples with 1 evaluation.\n",
       " Range \u001b[90m(\u001b[39m\u001b[36m\u001b[1mmin\u001b[22m\u001b[39m … \u001b[35mmax\u001b[39m\u001b[90m):  \u001b[39m\u001b[36m\u001b[1m 31.600 μs\u001b[22m\u001b[39m … \u001b[35m79.478 ms\u001b[39m  \u001b[90m┊\u001b[39m GC \u001b[90m(\u001b[39mmin … max\u001b[90m): \u001b[39m 0.00% … 99.86%\n",
       " Time  \u001b[90m(\u001b[39m\u001b[34m\u001b[1mmedian\u001b[22m\u001b[39m\u001b[90m):     \u001b[39m\u001b[34m\u001b[1m 83.600 μs              \u001b[22m\u001b[39m\u001b[90m┊\u001b[39m GC \u001b[90m(\u001b[39mmedian\u001b[90m):    \u001b[39m 0.00%\n",
       " Time  \u001b[90m(\u001b[39m\u001b[32m\u001b[1mmean\u001b[22m\u001b[39m ± \u001b[32mσ\u001b[39m\u001b[90m):   \u001b[39m\u001b[32m\u001b[1m110.508 μs\u001b[22m\u001b[39m ± \u001b[32m 1.373 ms\u001b[39m  \u001b[90m┊\u001b[39m GC \u001b[90m(\u001b[39mmean ± σ\u001b[90m):  \u001b[39m27.44% ±  2.23%\n",
       "\n",
       "  \u001b[39m \u001b[39m▂\u001b[39m \u001b[39m \u001b[39m \u001b[39m \u001b[39m \u001b[39m \u001b[39m \u001b[39m \u001b[39m \u001b[39m \u001b[39m \u001b[39m \u001b[39m \u001b[39m \u001b[39m \u001b[39m \u001b[39m \u001b[39m \u001b[39m \u001b[39m \u001b[39m▁\u001b[39m▃\u001b[39m▁\u001b[39m▂\u001b[39m▂\u001b[39m▁\u001b[39m \u001b[39m \u001b[39m \u001b[39m▃\u001b[39m▃\u001b[34m▂\u001b[39m\u001b[39m▄\u001b[39m▂\u001b[39m▃\u001b[39m▄\u001b[39m▄\u001b[39m▆\u001b[39m█\u001b[39m▇\u001b[39m▄\u001b[39m▄\u001b[39m▄\u001b[39m▂\u001b[39m▃\u001b[39m▁\u001b[39m \u001b[39m \u001b[32m \u001b[39m\u001b[39m \u001b[39m \u001b[39m \u001b[39m \u001b[39m \u001b[39m \u001b[39m \u001b[39m \u001b[39m \u001b[39m \u001b[39m \n",
       "  \u001b[39m▃\u001b[39m█\u001b[39m█\u001b[39m█\u001b[39m▇\u001b[39m▆\u001b[39m▄\u001b[39m▅\u001b[39m▄\u001b[39m▄\u001b[39m▅\u001b[39m▆\u001b[39m▅\u001b[39m▅\u001b[39m▆\u001b[39m▆\u001b[39m▆\u001b[39m█\u001b[39m█\u001b[39m▅\u001b[39m▆\u001b[39m▆\u001b[39m█\u001b[39m█\u001b[39m█\u001b[39m█\u001b[39m█\u001b[39m█\u001b[39m█\u001b[39m█\u001b[39m█\u001b[39m█\u001b[39m█\u001b[34m█\u001b[39m\u001b[39m█\u001b[39m█\u001b[39m█\u001b[39m█\u001b[39m█\u001b[39m█\u001b[39m█\u001b[39m█\u001b[39m█\u001b[39m█\u001b[39m█\u001b[39m█\u001b[39m█\u001b[39m█\u001b[39m▇\u001b[39m▇\u001b[32m▆\u001b[39m\u001b[39m▅\u001b[39m▄\u001b[39m▄\u001b[39m▄\u001b[39m▃\u001b[39m▃\u001b[39m▂\u001b[39m▂\u001b[39m▂\u001b[39m \u001b[39m▅\n",
       "  31.6 μs\u001b[90m         Histogram: frequency by time\u001b[39m          126 μs \u001b[0m\u001b[1m<\u001b[22m\n",
       "\n",
       " Memory estimate\u001b[90m: \u001b[39m\u001b[33m200.05 KiB\u001b[39m, allocs estimate\u001b[90m: \u001b[39m\u001b[33m2\u001b[39m."
      ]
     },
     "execution_count": 79,
     "metadata": {},
     "output_type": "execute_result"
    }
   ],
   "source": [
    "temp = rand(25600)\n",
    "@benchmark $temp.-3"
   ]
  },
  {
   "cell_type": "code",
   "execution_count": 3,
   "metadata": {},
   "outputs": [
    {
     "ename": "LoadError",
     "evalue": "UndefVarError: x not defined",
     "output_type": "error",
     "traceback": [
      "UndefVarError: x not defined",
      "",
      "Stacktrace:",
      " [1] top-level scope",
      "   @ In[3]:1",
      " [2] eval",
      "   @ .\\boot.jl:373 [inlined]",
      " [3] include_string(mapexpr::typeof(REPL.softscope), mod::Module, code::String, filename::String)",
      "   @ Base .\\loading.jl:1196"
     ]
    }
   ],
   "source": [
    "temp = rand(x)\n",
    "temp2  = 3*ones(x)"
   ]
  },
  {
   "cell_type": "code",
   "execution_count": 46,
   "metadata": {},
   "outputs": [
    {
     "name": "stdout",
     "output_type": "stream",
     "text": [
      "  0.038642 seconds (68.68 k allocations: 5.544 MiB, 99.94% compilation time)\n",
      "Now N is 100-2.467628254342577\n",
      "  0.000010 seconds (3 allocations: 1.828 KiB)\n",
      "Now N is 200-2.5292235674790464\n",
      "  0.000009 seconds (3 allocations: 3.312 KiB)\n",
      "Now N is 400-2.4909599834910163\n",
      "  0.000003 seconds (3 allocations: 6.438 KiB)\n",
      "Now N is 800-2.4933148890859567\n",
      "  0.000003 seconds (3 allocations: 12.688 KiB)\n",
      "Now N is 1600-2.5100089043815386\n",
      "  0.000012 seconds (4 allocations: 25.109 KiB)\n",
      "Now N is 3200-2.5021941191470685\n",
      "  0.000023 seconds (4 allocations: 50.109 KiB)\n",
      "Now N is 6400-2.5025332585135827\n",
      "  0.000043 seconds (4 allocations: 100.109 KiB)\n",
      "Now N is 12800-2.499905903016722\n",
      "  0.000064 seconds (4 allocations: 200.109 KiB)\n",
      "Now N is 25600-2.500482424388777\n"
     ]
    }
   ],
   "source": [
    "N = [100,200,400,800,1600,3200,6400,12800,25600]\n",
    "for x in N\n",
    "    temp = rand(x)\n",
    "    time = @time temp.-3\n",
    "    println(\"Now N is \",x,mean(time))\n",
    "    # @btime $temp - $temp2\n",
    "end"
   ]
  },
  {
   "cell_type": "code",
   "execution_count": 65,
   "metadata": {},
   "outputs": [
    {
     "name": "stdout",
     "output_type": "stream",
     "text": [
      "  6.075 μs (2 allocations: 78.17 KiB)\n",
      "Now N is 100\n",
      "  23.000 μs (2 allocations: 312.55 KiB)\n",
      "Now N is 200\n",
      "  199.000 μs (2 allocations: 1.22 MiB)\n",
      "Now N is 400\n",
      "  833.200 μs (2 allocations: 4.88 MiB)\n",
      "Now N is 800\n",
      "  4.022 ms (2 allocations: 19.53 MiB)\n",
      "Now N is 1600\n",
      "  17.441 ms (2 allocations: 78.13 MiB)\n",
      "Now N is 3200\n",
      "  69.704 ms (2 allocations: 312.50 MiB)\n",
      "Now N is 6400\n"
     ]
    }
   ],
   "source": [
    "N = [100,200,400,800,1600,3200,6400]\n",
    "for x in N\n",
    "    temp = rand(x)\n",
    "    temp2  = 3*ones(x)\n",
    "    time = @btime $temp-$temp2\n",
    "    println(\"Now N is \",x)\n",
    "end"
   ]
  },
  {
   "cell_type": "code",
   "execution_count": 1,
   "metadata": {},
   "outputs": [
    {
     "data": {
      "text/plain": [
       "1000×1000 Matrix{Float64}:\n",
       " 1510.45  1510.45  1510.45  1510.45  …  1510.45  1510.45  1510.45  1510.45\n",
       " 1530.25  1530.25  1530.25  1530.25     1530.25  1530.25  1530.25  1530.25\n",
       " 1560.65  1560.65  1560.65  1560.65     1560.65  1560.65  1560.65  1560.65\n",
       " 1466.9   1466.9   1466.9   1466.9      1466.9   1466.9   1466.9   1466.9\n",
       " 1532.38  1532.38  1532.38  1532.38     1532.38  1532.38  1532.38  1532.38\n",
       " 1489.94  1489.94  1489.94  1489.94  …  1489.94  1489.94  1489.94  1489.94\n",
       " 1491.03  1491.03  1491.03  1491.03     1491.03  1491.03  1491.03  1491.03\n",
       " 1496.74  1496.74  1496.74  1496.74     1496.74  1496.74  1496.74  1496.74\n",
       " 1490.82  1490.82  1490.82  1490.82     1490.82  1490.82  1490.82  1490.82\n",
       " 1485.26  1485.26  1485.26  1485.26     1485.26  1485.26  1485.26  1485.26\n",
       " 1440.32  1440.32  1440.32  1440.32  …  1440.32  1440.32  1440.32  1440.32\n",
       " 1515.83  1515.83  1515.83  1515.83     1515.83  1515.83  1515.83  1515.83\n",
       " 1519.88  1519.88  1519.88  1519.88     1519.88  1519.88  1519.88  1519.88\n",
       "    ⋮                                ⋱                             \n",
       " 1496.47  1496.47  1496.47  1496.47     1496.47  1496.47  1496.47  1496.47\n",
       " 1533.78  1533.78  1533.78  1533.78     1533.78  1533.78  1533.78  1533.78\n",
       " 1455.5   1455.5   1455.5   1455.5   …  1455.5   1455.5   1455.5   1455.5\n",
       " 1521.35  1521.35  1521.35  1521.35     1521.35  1521.35  1521.35  1521.35\n",
       " 1510.14  1510.14  1510.14  1510.14     1510.14  1510.14  1510.14  1510.14\n",
       " 1517.91  1517.91  1517.91  1517.91     1517.91  1517.91  1517.91  1517.91\n",
       " 1535.86  1535.86  1535.86  1535.86     1535.86  1535.86  1535.86  1535.86\n",
       " 1497.82  1497.82  1497.82  1497.82  …  1497.82  1497.82  1497.82  1497.82\n",
       " 1465.54  1465.54  1465.54  1465.54     1465.54  1465.54  1465.54  1465.54\n",
       " 1437.56  1437.56  1437.56  1437.56     1437.56  1437.56  1437.56  1437.56\n",
       " 1500.35  1500.35  1500.35  1500.35     1500.35  1500.35  1500.35  1500.35\n",
       " 1497.17  1497.17  1497.17  1497.17     1497.17  1497.17  1497.17  1497.17"
      ]
     },
     "execution_count": 1,
     "metadata": {},
     "output_type": "execute_result"
    }
   ],
   "source": [
    "x = 1000\n",
    "temp = rand(x,x)\n",
    "temp2  = 3*ones(x,x)\n",
    "temp*temp2"
   ]
  },
  {
   "cell_type": "code",
   "execution_count": 3,
   "metadata": {},
   "outputs": [
    {
     "data": {
      "text/plain": [
       "2×2 Matrix{Int64}:\n",
       " 3  4\n",
       " 5  6"
      ]
     },
     "execution_count": 3,
     "metadata": {},
     "output_type": "execute_result"
    }
   ],
   "source": [
    "temp = [1 2; 3 4]\n",
    "temp2 = [3 4;5 6]"
   ]
  },
  {
   "cell_type": "code",
   "execution_count": 11,
   "metadata": {},
   "outputs": [
    {
     "data": {
      "text/plain": [
       "2×2 Matrix{Int64}:\n",
       "  3   8\n",
       " 15  24"
      ]
     },
     "execution_count": 11,
     "metadata": {},
     "output_type": "execute_result"
    }
   ],
   "source": [
    "temp.*temp2"
   ]
  },
  {
   "cell_type": "code",
   "execution_count": 6,
   "metadata": {},
   "outputs": [
    {
     "data": {
      "text/plain": [
       "2×2 Matrix{Int64}:\n",
       " 13  16\n",
       " 29  36"
      ]
     },
     "execution_count": 6,
     "metadata": {},
     "output_type": "execute_result"
    }
   ],
   "source": [
    "temp * temp2"
   ]
  },
  {
   "cell_type": "code",
   "execution_count": null,
   "metadata": {},
   "outputs": [],
   "source": []
  }
 ],
 "metadata": {
  "kernelspec": {
   "display_name": "Julia 1.7.3",
   "language": "julia",
   "name": "julia-1.7"
  },
  "language_info": {
   "file_extension": ".jl",
   "mimetype": "application/julia",
   "name": "julia",
   "version": "1.7.3"
  },
  "orig_nbformat": 4
 },
 "nbformat": 4,
 "nbformat_minor": 2
}
